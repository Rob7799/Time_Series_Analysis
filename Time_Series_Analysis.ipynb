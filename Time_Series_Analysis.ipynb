{
  "nbformat": 4,
  "nbformat_minor": 0,
  "metadata": {
    "colab": {
      "name": "Time_Series_Analysis.ipynb",
      "provenance": [],
      "authorship_tag": "ABX9TyMj7/6Wkp7uvmZLAmsLscgD",
      "include_colab_link": true
    },
    "kernelspec": {
      "name": "python3",
      "display_name": "Python 3"
    },
    "language_info": {
      "name": "python"
    }
  },
  "cells": [
    {
      "cell_type": "markdown",
      "metadata": {
        "id": "view-in-github",
        "colab_type": "text"
      },
      "source": [
        "<a href=\"https://colab.research.google.com/github/Rob7799/Time_Series_Analysis/blob/main/Time_Series_Analysis.ipynb\" target=\"_parent\"><img src=\"https://colab.research.google.com/assets/colab-badge.svg\" alt=\"Open In Colab\"/></a>"
      ]
    },
    {
      "cell_type": "code",
      "metadata": {
        "id": "1pEYCiIgGdtY"
      },
      "source": [
        "import pandas as pd"
      ],
      "execution_count": 31,
      "outputs": []
    },
    {
      "cell_type": "code",
      "metadata": {
        "colab": {
          "base_uri": "https://localhost:8080/",
          "height": 419
        },
        "id": "P9ZuLzX8HPKr",
        "outputId": "1f0e8627-8215-4c4b-c93d-9c12ce60d234"
      },
      "source": [
        "fb_data=pd.read_csv(\"/content/FB_data.csv\")\n",
        "fb_data"
      ],
      "execution_count": 32,
      "outputs": [
        {
          "output_type": "execute_result",
          "data": {
            "text/html": [
              "<div>\n",
              "<style scoped>\n",
              "    .dataframe tbody tr th:only-of-type {\n",
              "        vertical-align: middle;\n",
              "    }\n",
              "\n",
              "    .dataframe tbody tr th {\n",
              "        vertical-align: top;\n",
              "    }\n",
              "\n",
              "    .dataframe thead th {\n",
              "        text-align: right;\n",
              "    }\n",
              "</style>\n",
              "<table border=\"1\" class=\"dataframe\">\n",
              "  <thead>\n",
              "    <tr style=\"text-align: right;\">\n",
              "      <th></th>\n",
              "      <th>Date</th>\n",
              "      <th>Open</th>\n",
              "      <th>High</th>\n",
              "      <th>Low</th>\n",
              "      <th>Close</th>\n",
              "      <th>Adj Close</th>\n",
              "      <th>Volume</th>\n",
              "    </tr>\n",
              "  </thead>\n",
              "  <tbody>\n",
              "    <tr>\n",
              "      <th>0</th>\n",
              "      <td>6/20/2019</td>\n",
              "      <td>190.949997</td>\n",
              "      <td>191.160004</td>\n",
              "      <td>187.639999</td>\n",
              "      <td>189.529999</td>\n",
              "      <td>189.529999</td>\n",
              "      <td>14635700</td>\n",
              "    </tr>\n",
              "    <tr>\n",
              "      <th>1</th>\n",
              "      <td>6/21/2019</td>\n",
              "      <td>188.750000</td>\n",
              "      <td>192.000000</td>\n",
              "      <td>188.750000</td>\n",
              "      <td>191.139999</td>\n",
              "      <td>191.139999</td>\n",
              "      <td>22751200</td>\n",
              "    </tr>\n",
              "    <tr>\n",
              "      <th>2</th>\n",
              "      <td>6/24/2019</td>\n",
              "      <td>192.419998</td>\n",
              "      <td>193.979996</td>\n",
              "      <td>191.570007</td>\n",
              "      <td>192.600006</td>\n",
              "      <td>192.600006</td>\n",
              "      <td>15509000</td>\n",
              "    </tr>\n",
              "    <tr>\n",
              "      <th>3</th>\n",
              "      <td>6/25/2019</td>\n",
              "      <td>192.880005</td>\n",
              "      <td>193.139999</td>\n",
              "      <td>188.130005</td>\n",
              "      <td>188.839996</td>\n",
              "      <td>188.839996</td>\n",
              "      <td>16750300</td>\n",
              "    </tr>\n",
              "    <tr>\n",
              "      <th>4</th>\n",
              "      <td>6/26/2019</td>\n",
              "      <td>189.539993</td>\n",
              "      <td>190.759995</td>\n",
              "      <td>187.309998</td>\n",
              "      <td>187.660004</td>\n",
              "      <td>187.660004</td>\n",
              "      <td>12808600</td>\n",
              "    </tr>\n",
              "    <tr>\n",
              "      <th>...</th>\n",
              "      <td>...</td>\n",
              "      <td>...</td>\n",
              "      <td>...</td>\n",
              "      <td>...</td>\n",
              "      <td>...</td>\n",
              "      <td>...</td>\n",
              "      <td>...</td>\n",
              "    </tr>\n",
              "    <tr>\n",
              "      <th>248</th>\n",
              "      <td>6/15/2020</td>\n",
              "      <td>225.089996</td>\n",
              "      <td>233.770004</td>\n",
              "      <td>224.800003</td>\n",
              "      <td>232.500000</td>\n",
              "      <td>232.500000</td>\n",
              "      <td>15340300</td>\n",
              "    </tr>\n",
              "    <tr>\n",
              "      <th>249</th>\n",
              "      <td>6/16/2020</td>\n",
              "      <td>237.139999</td>\n",
              "      <td>238.460007</td>\n",
              "      <td>233.000000</td>\n",
              "      <td>235.649994</td>\n",
              "      <td>235.649994</td>\n",
              "      <td>15236700</td>\n",
              "    </tr>\n",
              "    <tr>\n",
              "      <th>250</th>\n",
              "      <td>6/17/2020</td>\n",
              "      <td>235.000000</td>\n",
              "      <td>237.589996</td>\n",
              "      <td>231.729996</td>\n",
              "      <td>235.529999</td>\n",
              "      <td>235.529999</td>\n",
              "      <td>19552800</td>\n",
              "    </tr>\n",
              "    <tr>\n",
              "      <th>251</th>\n",
              "      <td>6/18/2020</td>\n",
              "      <td>234.990005</td>\n",
              "      <td>236.139999</td>\n",
              "      <td>232.149994</td>\n",
              "      <td>235.940002</td>\n",
              "      <td>235.940002</td>\n",
              "      <td>15782500</td>\n",
              "    </tr>\n",
              "    <tr>\n",
              "      <th>252</th>\n",
              "      <td>6/19/2020</td>\n",
              "      <td>237.789993</td>\n",
              "      <td>240.830002</td>\n",
              "      <td>235.550003</td>\n",
              "      <td>238.789993</td>\n",
              "      <td>238.789993</td>\n",
              "      <td>30069700</td>\n",
              "    </tr>\n",
              "  </tbody>\n",
              "</table>\n",
              "<p>253 rows × 7 columns</p>\n",
              "</div>"
            ],
            "text/plain": [
              "          Date        Open        High  ...       Close   Adj Close    Volume\n",
              "0    6/20/2019  190.949997  191.160004  ...  189.529999  189.529999  14635700\n",
              "1    6/21/2019  188.750000  192.000000  ...  191.139999  191.139999  22751200\n",
              "2    6/24/2019  192.419998  193.979996  ...  192.600006  192.600006  15509000\n",
              "3    6/25/2019  192.880005  193.139999  ...  188.839996  188.839996  16750300\n",
              "4    6/26/2019  189.539993  190.759995  ...  187.660004  187.660004  12808600\n",
              "..         ...         ...         ...  ...         ...         ...       ...\n",
              "248  6/15/2020  225.089996  233.770004  ...  232.500000  232.500000  15340300\n",
              "249  6/16/2020  237.139999  238.460007  ...  235.649994  235.649994  15236700\n",
              "250  6/17/2020  235.000000  237.589996  ...  235.529999  235.529999  19552800\n",
              "251  6/18/2020  234.990005  236.139999  ...  235.940002  235.940002  15782500\n",
              "252  6/19/2020  237.789993  240.830002  ...  238.789993  238.789993  30069700\n",
              "\n",
              "[253 rows x 7 columns]"
            ]
          },
          "metadata": {},
          "execution_count": 32
        }
      ]
    },
    {
      "cell_type": "code",
      "metadata": {
        "id": "xuq960DeHkxq"
      },
      "source": [
        "fb_data=pd.read_csv(\"/content/FB_data.csv\",parse_dates=[\"Date\"],index_col=\"Date\") #Resampling"
      ],
      "execution_count": 33,
      "outputs": []
    },
    {
      "cell_type": "code",
      "metadata": {
        "colab": {
          "base_uri": "https://localhost:8080/",
          "height": 450
        },
        "id": "ob67u4n1IBfG",
        "outputId": "abb00613-4992-49bc-c5cd-8dbd37e69e6c"
      },
      "source": [
        "fb_data"
      ],
      "execution_count": 34,
      "outputs": [
        {
          "output_type": "execute_result",
          "data": {
            "text/html": [
              "<div>\n",
              "<style scoped>\n",
              "    .dataframe tbody tr th:only-of-type {\n",
              "        vertical-align: middle;\n",
              "    }\n",
              "\n",
              "    .dataframe tbody tr th {\n",
              "        vertical-align: top;\n",
              "    }\n",
              "\n",
              "    .dataframe thead th {\n",
              "        text-align: right;\n",
              "    }\n",
              "</style>\n",
              "<table border=\"1\" class=\"dataframe\">\n",
              "  <thead>\n",
              "    <tr style=\"text-align: right;\">\n",
              "      <th></th>\n",
              "      <th>Open</th>\n",
              "      <th>High</th>\n",
              "      <th>Low</th>\n",
              "      <th>Close</th>\n",
              "      <th>Adj Close</th>\n",
              "      <th>Volume</th>\n",
              "    </tr>\n",
              "    <tr>\n",
              "      <th>Date</th>\n",
              "      <th></th>\n",
              "      <th></th>\n",
              "      <th></th>\n",
              "      <th></th>\n",
              "      <th></th>\n",
              "      <th></th>\n",
              "    </tr>\n",
              "  </thead>\n",
              "  <tbody>\n",
              "    <tr>\n",
              "      <th>2019-06-20</th>\n",
              "      <td>190.949997</td>\n",
              "      <td>191.160004</td>\n",
              "      <td>187.639999</td>\n",
              "      <td>189.529999</td>\n",
              "      <td>189.529999</td>\n",
              "      <td>14635700</td>\n",
              "    </tr>\n",
              "    <tr>\n",
              "      <th>2019-06-21</th>\n",
              "      <td>188.750000</td>\n",
              "      <td>192.000000</td>\n",
              "      <td>188.750000</td>\n",
              "      <td>191.139999</td>\n",
              "      <td>191.139999</td>\n",
              "      <td>22751200</td>\n",
              "    </tr>\n",
              "    <tr>\n",
              "      <th>2019-06-24</th>\n",
              "      <td>192.419998</td>\n",
              "      <td>193.979996</td>\n",
              "      <td>191.570007</td>\n",
              "      <td>192.600006</td>\n",
              "      <td>192.600006</td>\n",
              "      <td>15509000</td>\n",
              "    </tr>\n",
              "    <tr>\n",
              "      <th>2019-06-25</th>\n",
              "      <td>192.880005</td>\n",
              "      <td>193.139999</td>\n",
              "      <td>188.130005</td>\n",
              "      <td>188.839996</td>\n",
              "      <td>188.839996</td>\n",
              "      <td>16750300</td>\n",
              "    </tr>\n",
              "    <tr>\n",
              "      <th>2019-06-26</th>\n",
              "      <td>189.539993</td>\n",
              "      <td>190.759995</td>\n",
              "      <td>187.309998</td>\n",
              "      <td>187.660004</td>\n",
              "      <td>187.660004</td>\n",
              "      <td>12808600</td>\n",
              "    </tr>\n",
              "    <tr>\n",
              "      <th>...</th>\n",
              "      <td>...</td>\n",
              "      <td>...</td>\n",
              "      <td>...</td>\n",
              "      <td>...</td>\n",
              "      <td>...</td>\n",
              "      <td>...</td>\n",
              "    </tr>\n",
              "    <tr>\n",
              "      <th>2020-06-15</th>\n",
              "      <td>225.089996</td>\n",
              "      <td>233.770004</td>\n",
              "      <td>224.800003</td>\n",
              "      <td>232.500000</td>\n",
              "      <td>232.500000</td>\n",
              "      <td>15340300</td>\n",
              "    </tr>\n",
              "    <tr>\n",
              "      <th>2020-06-16</th>\n",
              "      <td>237.139999</td>\n",
              "      <td>238.460007</td>\n",
              "      <td>233.000000</td>\n",
              "      <td>235.649994</td>\n",
              "      <td>235.649994</td>\n",
              "      <td>15236700</td>\n",
              "    </tr>\n",
              "    <tr>\n",
              "      <th>2020-06-17</th>\n",
              "      <td>235.000000</td>\n",
              "      <td>237.589996</td>\n",
              "      <td>231.729996</td>\n",
              "      <td>235.529999</td>\n",
              "      <td>235.529999</td>\n",
              "      <td>19552800</td>\n",
              "    </tr>\n",
              "    <tr>\n",
              "      <th>2020-06-18</th>\n",
              "      <td>234.990005</td>\n",
              "      <td>236.139999</td>\n",
              "      <td>232.149994</td>\n",
              "      <td>235.940002</td>\n",
              "      <td>235.940002</td>\n",
              "      <td>15782500</td>\n",
              "    </tr>\n",
              "    <tr>\n",
              "      <th>2020-06-19</th>\n",
              "      <td>237.789993</td>\n",
              "      <td>240.830002</td>\n",
              "      <td>235.550003</td>\n",
              "      <td>238.789993</td>\n",
              "      <td>238.789993</td>\n",
              "      <td>30069700</td>\n",
              "    </tr>\n",
              "  </tbody>\n",
              "</table>\n",
              "<p>253 rows × 6 columns</p>\n",
              "</div>"
            ],
            "text/plain": [
              "                  Open        High  ...   Adj Close    Volume\n",
              "Date                                ...                      \n",
              "2019-06-20  190.949997  191.160004  ...  189.529999  14635700\n",
              "2019-06-21  188.750000  192.000000  ...  191.139999  22751200\n",
              "2019-06-24  192.419998  193.979996  ...  192.600006  15509000\n",
              "2019-06-25  192.880005  193.139999  ...  188.839996  16750300\n",
              "2019-06-26  189.539993  190.759995  ...  187.660004  12808600\n",
              "...                ...         ...  ...         ...       ...\n",
              "2020-06-15  225.089996  233.770004  ...  232.500000  15340300\n",
              "2020-06-16  237.139999  238.460007  ...  235.649994  15236700\n",
              "2020-06-17  235.000000  237.589996  ...  235.529999  19552800\n",
              "2020-06-18  234.990005  236.139999  ...  235.940002  15782500\n",
              "2020-06-19  237.789993  240.830002  ...  238.789993  30069700\n",
              "\n",
              "[253 rows x 6 columns]"
            ]
          },
          "metadata": {},
          "execution_count": 34
        }
      ]
    },
    {
      "cell_type": "code",
      "metadata": {
        "colab": {
          "base_uri": "https://localhost:8080/",
          "height": 297
        },
        "id": "S6qBZpyiI7qD",
        "outputId": "9e13c1db-fd01-4f9a-d91d-89a966c70e62"
      },
      "source": [
        "fb_data[\"2019-06\"]"
      ],
      "execution_count": 35,
      "outputs": [
        {
          "output_type": "execute_result",
          "data": {
            "text/html": [
              "<div>\n",
              "<style scoped>\n",
              "    .dataframe tbody tr th:only-of-type {\n",
              "        vertical-align: middle;\n",
              "    }\n",
              "\n",
              "    .dataframe tbody tr th {\n",
              "        vertical-align: top;\n",
              "    }\n",
              "\n",
              "    .dataframe thead th {\n",
              "        text-align: right;\n",
              "    }\n",
              "</style>\n",
              "<table border=\"1\" class=\"dataframe\">\n",
              "  <thead>\n",
              "    <tr style=\"text-align: right;\">\n",
              "      <th></th>\n",
              "      <th>Open</th>\n",
              "      <th>High</th>\n",
              "      <th>Low</th>\n",
              "      <th>Close</th>\n",
              "      <th>Adj Close</th>\n",
              "      <th>Volume</th>\n",
              "    </tr>\n",
              "    <tr>\n",
              "      <th>Date</th>\n",
              "      <th></th>\n",
              "      <th></th>\n",
              "      <th></th>\n",
              "      <th></th>\n",
              "      <th></th>\n",
              "      <th></th>\n",
              "    </tr>\n",
              "  </thead>\n",
              "  <tbody>\n",
              "    <tr>\n",
              "      <th>2019-06-20</th>\n",
              "      <td>190.949997</td>\n",
              "      <td>191.160004</td>\n",
              "      <td>187.639999</td>\n",
              "      <td>189.529999</td>\n",
              "      <td>189.529999</td>\n",
              "      <td>14635700</td>\n",
              "    </tr>\n",
              "    <tr>\n",
              "      <th>2019-06-21</th>\n",
              "      <td>188.750000</td>\n",
              "      <td>192.000000</td>\n",
              "      <td>188.750000</td>\n",
              "      <td>191.139999</td>\n",
              "      <td>191.139999</td>\n",
              "      <td>22751200</td>\n",
              "    </tr>\n",
              "    <tr>\n",
              "      <th>2019-06-24</th>\n",
              "      <td>192.419998</td>\n",
              "      <td>193.979996</td>\n",
              "      <td>191.570007</td>\n",
              "      <td>192.600006</td>\n",
              "      <td>192.600006</td>\n",
              "      <td>15509000</td>\n",
              "    </tr>\n",
              "    <tr>\n",
              "      <th>2019-06-25</th>\n",
              "      <td>192.880005</td>\n",
              "      <td>193.139999</td>\n",
              "      <td>188.130005</td>\n",
              "      <td>188.839996</td>\n",
              "      <td>188.839996</td>\n",
              "      <td>16750300</td>\n",
              "    </tr>\n",
              "    <tr>\n",
              "      <th>2019-06-26</th>\n",
              "      <td>189.539993</td>\n",
              "      <td>190.759995</td>\n",
              "      <td>187.309998</td>\n",
              "      <td>187.660004</td>\n",
              "      <td>187.660004</td>\n",
              "      <td>12808600</td>\n",
              "    </tr>\n",
              "    <tr>\n",
              "      <th>2019-06-27</th>\n",
              "      <td>189.880005</td>\n",
              "      <td>198.880005</td>\n",
              "      <td>188.270004</td>\n",
              "      <td>189.500000</td>\n",
              "      <td>189.500000</td>\n",
              "      <td>11159000</td>\n",
              "    </tr>\n",
              "    <tr>\n",
              "      <th>2019-06-28</th>\n",
              "      <td>190.550003</td>\n",
              "      <td>193.199997</td>\n",
              "      <td>189.940002</td>\n",
              "      <td>193.000000</td>\n",
              "      <td>193.000000</td>\n",
              "      <td>16378900</td>\n",
              "    </tr>\n",
              "  </tbody>\n",
              "</table>\n",
              "</div>"
            ],
            "text/plain": [
              "                  Open        High  ...   Adj Close    Volume\n",
              "Date                                ...                      \n",
              "2019-06-20  190.949997  191.160004  ...  189.529999  14635700\n",
              "2019-06-21  188.750000  192.000000  ...  191.139999  22751200\n",
              "2019-06-24  192.419998  193.979996  ...  192.600006  15509000\n",
              "2019-06-25  192.880005  193.139999  ...  188.839996  16750300\n",
              "2019-06-26  189.539993  190.759995  ...  187.660004  12808600\n",
              "2019-06-27  189.880005  198.880005  ...  189.500000  11159000\n",
              "2019-06-28  190.550003  193.199997  ...  193.000000  16378900\n",
              "\n",
              "[7 rows x 6 columns]"
            ]
          },
          "metadata": {},
          "execution_count": 35
        }
      ]
    },
    {
      "cell_type": "code",
      "metadata": {
        "colab": {
          "base_uri": "https://localhost:8080/"
        },
        "id": "BaPiHiHMJDOL",
        "outputId": "4e907374-6076-4c2c-d545-4c68feaab296"
      },
      "source": [
        "fb_data[\"2019-06\"].mean()"
      ],
      "execution_count": 36,
      "outputs": [
        {
          "output_type": "execute_result",
          "data": {
            "text/plain": [
              "Open         1.907100e+02\n",
              "High         1.933029e+02\n",
              "Low          1.888014e+02\n",
              "Close        1.903243e+02\n",
              "Adj Close    1.903243e+02\n",
              "Volume       1.571324e+07\n",
              "dtype: float64"
            ]
          },
          "metadata": {},
          "execution_count": 36
        }
      ]
    },
    {
      "cell_type": "code",
      "metadata": {
        "colab": {
          "base_uri": "https://localhost:8080/"
        },
        "id": "uNZOOvBMJE9M",
        "outputId": "f2205735-6563-41c7-8178-12283c7d7fed"
      },
      "source": [
        "fb_data.loc[\"2019-06-21\"]"
      ],
      "execution_count": 37,
      "outputs": [
        {
          "output_type": "execute_result",
          "data": {
            "text/plain": [
              "Open         1.887500e+02\n",
              "High         1.920000e+02\n",
              "Low          1.887500e+02\n",
              "Close        1.911400e+02\n",
              "Adj Close    1.911400e+02\n",
              "Volume       2.275120e+07\n",
              "Name: 2019-06-21 00:00:00, dtype: float64"
            ]
          },
          "metadata": {},
          "execution_count": 37
        }
      ]
    },
    {
      "cell_type": "code",
      "metadata": {
        "colab": {
          "base_uri": "https://localhost:8080/",
          "height": 514
        },
        "id": "61Us4K3iJKAa",
        "outputId": "5df322ad-bb79-4ac5-b8ae-c9b360d86018"
      },
      "source": [
        "fb_data.loc[\"2010-06-27\":\"2019-07-10\"]"
      ],
      "execution_count": 38,
      "outputs": [
        {
          "output_type": "execute_result",
          "data": {
            "text/html": [
              "<div>\n",
              "<style scoped>\n",
              "    .dataframe tbody tr th:only-of-type {\n",
              "        vertical-align: middle;\n",
              "    }\n",
              "\n",
              "    .dataframe tbody tr th {\n",
              "        vertical-align: top;\n",
              "    }\n",
              "\n",
              "    .dataframe thead th {\n",
              "        text-align: right;\n",
              "    }\n",
              "</style>\n",
              "<table border=\"1\" class=\"dataframe\">\n",
              "  <thead>\n",
              "    <tr style=\"text-align: right;\">\n",
              "      <th></th>\n",
              "      <th>Open</th>\n",
              "      <th>High</th>\n",
              "      <th>Low</th>\n",
              "      <th>Close</th>\n",
              "      <th>Adj Close</th>\n",
              "      <th>Volume</th>\n",
              "    </tr>\n",
              "    <tr>\n",
              "      <th>Date</th>\n",
              "      <th></th>\n",
              "      <th></th>\n",
              "      <th></th>\n",
              "      <th></th>\n",
              "      <th></th>\n",
              "      <th></th>\n",
              "    </tr>\n",
              "  </thead>\n",
              "  <tbody>\n",
              "    <tr>\n",
              "      <th>2019-06-20</th>\n",
              "      <td>190.949997</td>\n",
              "      <td>191.160004</td>\n",
              "      <td>187.639999</td>\n",
              "      <td>189.529999</td>\n",
              "      <td>189.529999</td>\n",
              "      <td>14635700</td>\n",
              "    </tr>\n",
              "    <tr>\n",
              "      <th>2019-06-21</th>\n",
              "      <td>188.750000</td>\n",
              "      <td>192.000000</td>\n",
              "      <td>188.750000</td>\n",
              "      <td>191.139999</td>\n",
              "      <td>191.139999</td>\n",
              "      <td>22751200</td>\n",
              "    </tr>\n",
              "    <tr>\n",
              "      <th>2019-06-24</th>\n",
              "      <td>192.419998</td>\n",
              "      <td>193.979996</td>\n",
              "      <td>191.570007</td>\n",
              "      <td>192.600006</td>\n",
              "      <td>192.600006</td>\n",
              "      <td>15509000</td>\n",
              "    </tr>\n",
              "    <tr>\n",
              "      <th>2019-06-25</th>\n",
              "      <td>192.880005</td>\n",
              "      <td>193.139999</td>\n",
              "      <td>188.130005</td>\n",
              "      <td>188.839996</td>\n",
              "      <td>188.839996</td>\n",
              "      <td>16750300</td>\n",
              "    </tr>\n",
              "    <tr>\n",
              "      <th>2019-06-26</th>\n",
              "      <td>189.539993</td>\n",
              "      <td>190.759995</td>\n",
              "      <td>187.309998</td>\n",
              "      <td>187.660004</td>\n",
              "      <td>187.660004</td>\n",
              "      <td>12808600</td>\n",
              "    </tr>\n",
              "    <tr>\n",
              "      <th>2019-06-27</th>\n",
              "      <td>189.880005</td>\n",
              "      <td>198.880005</td>\n",
              "      <td>188.270004</td>\n",
              "      <td>189.500000</td>\n",
              "      <td>189.500000</td>\n",
              "      <td>11159000</td>\n",
              "    </tr>\n",
              "    <tr>\n",
              "      <th>2019-06-28</th>\n",
              "      <td>190.550003</td>\n",
              "      <td>193.199997</td>\n",
              "      <td>189.940002</td>\n",
              "      <td>193.000000</td>\n",
              "      <td>193.000000</td>\n",
              "      <td>16378900</td>\n",
              "    </tr>\n",
              "    <tr>\n",
              "      <th>2019-07-01</th>\n",
              "      <td>195.210007</td>\n",
              "      <td>195.279999</td>\n",
              "      <td>191.929993</td>\n",
              "      <td>193.000000</td>\n",
              "      <td>193.000000</td>\n",
              "      <td>14204700</td>\n",
              "    </tr>\n",
              "    <tr>\n",
              "      <th>2019-07-02</th>\n",
              "      <td>193.000000</td>\n",
              "      <td>195.000000</td>\n",
              "      <td>192.710007</td>\n",
              "      <td>195.000000</td>\n",
              "      <td>195.000000</td>\n",
              "      <td>9050000</td>\n",
              "    </tr>\n",
              "    <tr>\n",
              "      <th>2019-07-03</th>\n",
              "      <td>194.160004</td>\n",
              "      <td>197.399994</td>\n",
              "      <td>194.160004</td>\n",
              "      <td>197.199997</td>\n",
              "      <td>197.199997</td>\n",
              "      <td>10246100</td>\n",
              "    </tr>\n",
              "    <tr>\n",
              "      <th>2019-07-05</th>\n",
              "      <td>196.179993</td>\n",
              "      <td>197.070007</td>\n",
              "      <td>194.169998</td>\n",
              "      <td>196.399994</td>\n",
              "      <td>196.399994</td>\n",
              "      <td>11164100</td>\n",
              "    </tr>\n",
              "    <tr>\n",
              "      <th>2019-07-08</th>\n",
              "      <td>195.190002</td>\n",
              "      <td>196.679993</td>\n",
              "      <td>193.639999</td>\n",
              "      <td>195.759995</td>\n",
              "      <td>195.759995</td>\n",
              "      <td>9723900</td>\n",
              "    </tr>\n",
              "    <tr>\n",
              "      <th>2019-07-09</th>\n",
              "      <td>194.970001</td>\n",
              "      <td>199.460007</td>\n",
              "      <td>194.889999</td>\n",
              "      <td>199.210007</td>\n",
              "      <td>199.210007</td>\n",
              "      <td>14698600</td>\n",
              "    </tr>\n",
              "    <tr>\n",
              "      <th>2019-07-10</th>\n",
              "      <td>200.000000</td>\n",
              "      <td>202.960007</td>\n",
              "      <td>199.669998</td>\n",
              "      <td>202.729996</td>\n",
              "      <td>202.729996</td>\n",
              "      <td>20571700</td>\n",
              "    </tr>\n",
              "  </tbody>\n",
              "</table>\n",
              "</div>"
            ],
            "text/plain": [
              "                  Open        High  ...   Adj Close    Volume\n",
              "Date                                ...                      \n",
              "2019-06-20  190.949997  191.160004  ...  189.529999  14635700\n",
              "2019-06-21  188.750000  192.000000  ...  191.139999  22751200\n",
              "2019-06-24  192.419998  193.979996  ...  192.600006  15509000\n",
              "2019-06-25  192.880005  193.139999  ...  188.839996  16750300\n",
              "2019-06-26  189.539993  190.759995  ...  187.660004  12808600\n",
              "2019-06-27  189.880005  198.880005  ...  189.500000  11159000\n",
              "2019-06-28  190.550003  193.199997  ...  193.000000  16378900\n",
              "2019-07-01  195.210007  195.279999  ...  193.000000  14204700\n",
              "2019-07-02  193.000000  195.000000  ...  195.000000   9050000\n",
              "2019-07-03  194.160004  197.399994  ...  197.199997  10246100\n",
              "2019-07-05  196.179993  197.070007  ...  196.399994  11164100\n",
              "2019-07-08  195.190002  196.679993  ...  195.759995   9723900\n",
              "2019-07-09  194.970001  199.460007  ...  199.210007  14698600\n",
              "2019-07-10  200.000000  202.960007  ...  202.729996  20571700\n",
              "\n",
              "[14 rows x 6 columns]"
            ]
          },
          "metadata": {},
          "execution_count": 38
        }
      ]
    },
    {
      "cell_type": "code",
      "metadata": {
        "colab": {
          "base_uri": "https://localhost:8080/"
        },
        "id": "be6GiTbdJ1Xc",
        "outputId": "3f84a456-918c-44e8-a835-40e4ce352817"
      },
      "source": [
        "fb_data.High.resample(\"M\").mean()"
      ],
      "execution_count": 39,
      "outputs": [
        {
          "output_type": "execute_result",
          "data": {
            "text/plain": [
              "Date\n",
              "2019-06-30    193.302857\n",
              "2019-07-31    201.507729\n",
              "2019-08-31    186.795908\n",
              "2019-09-30    187.609500\n",
              "2019-10-31    186.428694\n",
              "2019-11-30    197.110999\n",
              "2019-12-31    203.538095\n",
              "2020-01-31    218.119524\n",
              "2020-02-29    209.679475\n",
              "2020-03-31    170.172727\n",
              "2020-04-30    179.785715\n",
              "2020-05-31    219.477501\n",
              "2020-06-30    234.996002\n",
              "Freq: M, Name: High, dtype: float64"
            ]
          },
          "metadata": {},
          "execution_count": 39
        }
      ]
    },
    {
      "cell_type": "code",
      "metadata": {
        "id": "KKUdd22xKAQV"
      },
      "source": [
        "import matplotlib.pyplot as plt"
      ],
      "execution_count": 40,
      "outputs": []
    },
    {
      "cell_type": "code",
      "metadata": {
        "colab": {
          "base_uri": "https://localhost:8080/",
          "height": 308
        },
        "id": "qWUZuoNkKFbO",
        "outputId": "cccaadca-ab37-4f5c-e8fd-408473c9d995"
      },
      "source": [
        "fb_data.High.resample(\"M\").mean().plot()"
      ],
      "execution_count": 41,
      "outputs": [
        {
          "output_type": "execute_result",
          "data": {
            "text/plain": [
              "<matplotlib.axes._subplots.AxesSubplot at 0x7f402a638e50>"
            ]
          },
          "metadata": {},
          "execution_count": 41
        },
        {
          "output_type": "display_data",
          "data": {
            "image/png": "[encoded data removed]",
            "text/plain": [
              "<Figure size 432x288 with 1 Axes>"
            ]
          },
          "metadata": {
            "needs_background": "light"
          }
        }
      ]
    },
    {
      "cell_type": "code",
      "metadata": {
        "colab": {
          "base_uri": "https://localhost:8080/",
          "height": 391
        },
        "id": "tM-nUKqimAjp",
        "outputId": "44c818c8-db90-4e4f-c50f-28cb43371878"
      },
      "source": [
        "fb_data.High.resample(\"M\").mean().plot(kind=\"bar\")"
      ],
      "execution_count": 42,
      "outputs": [
        {
          "output_type": "execute_result",
          "data": {
            "text/plain": [
              "<matplotlib.axes._subplots.AxesSubplot at 0x7f402a238090>"
            ]
          },
          "metadata": {},
          "execution_count": 42
        },
        {
          "output_type": "display_data",
          "data": {
            "image/png": "[encoded data removed]",
            "text/plain": [
              "<Figure size 432x288 with 1 Axes>"
            ]
          },
          "metadata": {
            "needs_background": "light"
          }
        }
      ]
    },
    {
      "cell_type": "code",
      "metadata": {
        "colab": {
          "base_uri": "https://localhost:8080/",
          "height": 235
        },
        "id": "161fLnHctDCs",
        "outputId": "e9b95c69-0877-46a6-fb21-1542ba98f7c0"
      },
      "source": [
        "#Shift\n",
        "df1=pd.DataFrame(fb_data[\"Open\"])\n",
        "df1.head()\n"
      ],
      "execution_count": 43,
      "outputs": [
        {
          "output_type": "execute_result",
          "data": {
            "text/html": [
              "<div>\n",
              "<style scoped>\n",
              "    .dataframe tbody tr th:only-of-type {\n",
              "        vertical-align: middle;\n",
              "    }\n",
              "\n",
              "    .dataframe tbody tr th {\n",
              "        vertical-align: top;\n",
              "    }\n",
              "\n",
              "    .dataframe thead th {\n",
              "        text-align: right;\n",
              "    }\n",
              "</style>\n",
              "<table border=\"1\" class=\"dataframe\">\n",
              "  <thead>\n",
              "    <tr style=\"text-align: right;\">\n",
              "      <th></th>\n",
              "      <th>Open</th>\n",
              "    </tr>\n",
              "    <tr>\n",
              "      <th>Date</th>\n",
              "      <th></th>\n",
              "    </tr>\n",
              "  </thead>\n",
              "  <tbody>\n",
              "    <tr>\n",
              "      <th>2019-06-20</th>\n",
              "      <td>190.949997</td>\n",
              "    </tr>\n",
              "    <tr>\n",
              "      <th>2019-06-21</th>\n",
              "      <td>188.750000</td>\n",
              "    </tr>\n",
              "    <tr>\n",
              "      <th>2019-06-24</th>\n",
              "      <td>192.419998</td>\n",
              "    </tr>\n",
              "    <tr>\n",
              "      <th>2019-06-25</th>\n",
              "      <td>192.880005</td>\n",
              "    </tr>\n",
              "    <tr>\n",
              "      <th>2019-06-26</th>\n",
              "      <td>189.539993</td>\n",
              "    </tr>\n",
              "  </tbody>\n",
              "</table>\n",
              "</div>"
            ],
            "text/plain": [
              "                  Open\n",
              "Date                  \n",
              "2019-06-20  190.949997\n",
              "2019-06-21  188.750000\n",
              "2019-06-24  192.419998\n",
              "2019-06-25  192.880005\n",
              "2019-06-26  189.539993"
            ]
          },
          "metadata": {},
          "execution_count": 43
        }
      ]
    },
    {
      "cell_type": "code",
      "metadata": {
        "colab": {
          "base_uri": "https://localhost:8080/",
          "height": 450
        },
        "id": "ix_ZSS6vtbkL",
        "outputId": "2569ba70-a350-4f63-ce8b-9275ccf2947c"
      },
      "source": [
        "df1.shift(1)"
      ],
      "execution_count": 44,
      "outputs": [
        {
          "output_type": "execute_result",
          "data": {
            "text/html": [
              "<div>\n",
              "<style scoped>\n",
              "    .dataframe tbody tr th:only-of-type {\n",
              "        vertical-align: middle;\n",
              "    }\n",
              "\n",
              "    .dataframe tbody tr th {\n",
              "        vertical-align: top;\n",
              "    }\n",
              "\n",
              "    .dataframe thead th {\n",
              "        text-align: right;\n",
              "    }\n",
              "</style>\n",
              "<table border=\"1\" class=\"dataframe\">\n",
              "  <thead>\n",
              "    <tr style=\"text-align: right;\">\n",
              "      <th></th>\n",
              "      <th>Open</th>\n",
              "    </tr>\n",
              "    <tr>\n",
              "      <th>Date</th>\n",
              "      <th></th>\n",
              "    </tr>\n",
              "  </thead>\n",
              "  <tbody>\n",
              "    <tr>\n",
              "      <th>2019-06-20</th>\n",
              "      <td>NaN</td>\n",
              "    </tr>\n",
              "    <tr>\n",
              "      <th>2019-06-21</th>\n",
              "      <td>190.949997</td>\n",
              "    </tr>\n",
              "    <tr>\n",
              "      <th>2019-06-24</th>\n",
              "      <td>188.750000</td>\n",
              "    </tr>\n",
              "    <tr>\n",
              "      <th>2019-06-25</th>\n",
              "      <td>192.419998</td>\n",
              "    </tr>\n",
              "    <tr>\n",
              "      <th>2019-06-26</th>\n",
              "      <td>192.880005</td>\n",
              "    </tr>\n",
              "    <tr>\n",
              "      <th>...</th>\n",
              "      <td>...</td>\n",
              "    </tr>\n",
              "    <tr>\n",
              "      <th>2020-06-15</th>\n",
              "      <td>229.899994</td>\n",
              "    </tr>\n",
              "    <tr>\n",
              "      <th>2020-06-16</th>\n",
              "      <td>225.089996</td>\n",
              "    </tr>\n",
              "    <tr>\n",
              "      <th>2020-06-17</th>\n",
              "      <td>237.139999</td>\n",
              "    </tr>\n",
              "    <tr>\n",
              "      <th>2020-06-18</th>\n",
              "      <td>235.000000</td>\n",
              "    </tr>\n",
              "    <tr>\n",
              "      <th>2020-06-19</th>\n",
              "      <td>234.990005</td>\n",
              "    </tr>\n",
              "  </tbody>\n",
              "</table>\n",
              "<p>253 rows × 1 columns</p>\n",
              "</div>"
            ],
            "text/plain": [
              "                  Open\n",
              "Date                  \n",
              "2019-06-20         NaN\n",
              "2019-06-21  190.949997\n",
              "2019-06-24  188.750000\n",
              "2019-06-25  192.419998\n",
              "2019-06-26  192.880005\n",
              "...                ...\n",
              "2020-06-15  229.899994\n",
              "2020-06-16  225.089996\n",
              "2020-06-17  237.139999\n",
              "2020-06-18  235.000000\n",
              "2020-06-19  234.990005\n",
              "\n",
              "[253 rows x 1 columns]"
            ]
          },
          "metadata": {},
          "execution_count": 44
        }
      ]
    },
    {
      "cell_type": "code",
      "metadata": {
        "colab": {
          "base_uri": "https://localhost:8080/",
          "height": 450
        },
        "id": "PUrtqRcHtmFy",
        "outputId": "4ba4010e-9cd3-4d1b-8c32-40f3b60a705f"
      },
      "source": [
        "df1[\"Previous Day Opening\"]=df1[\"Open\"].shift(1)\n",
        "df1\n"
      ],
      "execution_count": 45,
      "outputs": [
        {
          "output_type": "execute_result",
          "data": {
            "text/html": [
              "<div>\n",
              "<style scoped>\n",
              "    .dataframe tbody tr th:only-of-type {\n",
              "        vertical-align: middle;\n",
              "    }\n",
              "\n",
              "    .dataframe tbody tr th {\n",
              "        vertical-align: top;\n",
              "    }\n",
              "\n",
              "    .dataframe thead th {\n",
              "        text-align: right;\n",
              "    }\n",
              "</style>\n",
              "<table border=\"1\" class=\"dataframe\">\n",
              "  <thead>\n",
              "    <tr style=\"text-align: right;\">\n",
              "      <th></th>\n",
              "      <th>Open</th>\n",
              "      <th>Previous Day Opening</th>\n",
              "    </tr>\n",
              "    <tr>\n",
              "      <th>Date</th>\n",
              "      <th></th>\n",
              "      <th></th>\n",
              "    </tr>\n",
              "  </thead>\n",
              "  <tbody>\n",
              "    <tr>\n",
              "      <th>2019-06-20</th>\n",
              "      <td>190.949997</td>\n",
              "      <td>NaN</td>\n",
              "    </tr>\n",
              "    <tr>\n",
              "      <th>2019-06-21</th>\n",
              "      <td>188.750000</td>\n",
              "      <td>190.949997</td>\n",
              "    </tr>\n",
              "    <tr>\n",
              "      <th>2019-06-24</th>\n",
              "      <td>192.419998</td>\n",
              "      <td>188.750000</td>\n",
              "    </tr>\n",
              "    <tr>\n",
              "      <th>2019-06-25</th>\n",
              "      <td>192.880005</td>\n",
              "      <td>192.419998</td>\n",
              "    </tr>\n",
              "    <tr>\n",
              "      <th>2019-06-26</th>\n",
              "      <td>189.539993</td>\n",
              "      <td>192.880005</td>\n",
              "    </tr>\n",
              "    <tr>\n",
              "      <th>...</th>\n",
              "      <td>...</td>\n",
              "      <td>...</td>\n",
              "    </tr>\n",
              "    <tr>\n",
              "      <th>2020-06-15</th>\n",
              "      <td>225.089996</td>\n",
              "      <td>229.899994</td>\n",
              "    </tr>\n",
              "    <tr>\n",
              "      <th>2020-06-16</th>\n",
              "      <td>237.139999</td>\n",
              "      <td>225.089996</td>\n",
              "    </tr>\n",
              "    <tr>\n",
              "      <th>2020-06-17</th>\n",
              "      <td>235.000000</td>\n",
              "      <td>237.139999</td>\n",
              "    </tr>\n",
              "    <tr>\n",
              "      <th>2020-06-18</th>\n",
              "      <td>234.990005</td>\n",
              "      <td>235.000000</td>\n",
              "    </tr>\n",
              "    <tr>\n",
              "      <th>2020-06-19</th>\n",
              "      <td>237.789993</td>\n",
              "      <td>234.990005</td>\n",
              "    </tr>\n",
              "  </tbody>\n",
              "</table>\n",
              "<p>253 rows × 2 columns</p>\n",
              "</div>"
            ],
            "text/plain": [
              "                  Open  Previous Day Opening\n",
              "Date                                        \n",
              "2019-06-20  190.949997                   NaN\n",
              "2019-06-21  188.750000            190.949997\n",
              "2019-06-24  192.419998            188.750000\n",
              "2019-06-25  192.880005            192.419998\n",
              "2019-06-26  189.539993            192.880005\n",
              "...                ...                   ...\n",
              "2020-06-15  225.089996            229.899994\n",
              "2020-06-16  237.139999            225.089996\n",
              "2020-06-17  235.000000            237.139999\n",
              "2020-06-18  234.990005            235.000000\n",
              "2020-06-19  237.789993            234.990005\n",
              "\n",
              "[253 rows x 2 columns]"
            ]
          },
          "metadata": {},
          "execution_count": 45
        }
      ]
    },
    {
      "cell_type": "code",
      "metadata": {
        "colab": {
          "base_uri": "https://localhost:8080/",
          "height": 450
        },
        "id": "zoTV6FuDt0oG",
        "outputId": "a3c6eec9-d46b-40f0-b327-54302c293e1f"
      },
      "source": [
        "df1[\"1 day cahnge \"]=df1[\"Open\"]-df1[\"Previous Day Opening\"]\n",
        "df1"
      ],
      "execution_count": 46,
      "outputs": [
        {
          "output_type": "execute_result",
          "data": {
            "text/html": [
              "<div>\n",
              "<style scoped>\n",
              "    .dataframe tbody tr th:only-of-type {\n",
              "        vertical-align: middle;\n",
              "    }\n",
              "\n",
              "    .dataframe tbody tr th {\n",
              "        vertical-align: top;\n",
              "    }\n",
              "\n",
              "    .dataframe thead th {\n",
              "        text-align: right;\n",
              "    }\n",
              "</style>\n",
              "<table border=\"1\" class=\"dataframe\">\n",
              "  <thead>\n",
              "    <tr style=\"text-align: right;\">\n",
              "      <th></th>\n",
              "      <th>Open</th>\n",
              "      <th>Previous Day Opening</th>\n",
              "      <th>1 day cahnge</th>\n",
              "    </tr>\n",
              "    <tr>\n",
              "      <th>Date</th>\n",
              "      <th></th>\n",
              "      <th></th>\n",
              "      <th></th>\n",
              "    </tr>\n",
              "  </thead>\n",
              "  <tbody>\n",
              "    <tr>\n",
              "      <th>2019-06-20</th>\n",
              "      <td>190.949997</td>\n",
              "      <td>NaN</td>\n",
              "      <td>NaN</td>\n",
              "    </tr>\n",
              "    <tr>\n",
              "      <th>2019-06-21</th>\n",
              "      <td>188.750000</td>\n",
              "      <td>190.949997</td>\n",
              "      <td>-2.199997</td>\n",
              "    </tr>\n",
              "    <tr>\n",
              "      <th>2019-06-24</th>\n",
              "      <td>192.419998</td>\n",
              "      <td>188.750000</td>\n",
              "      <td>3.669998</td>\n",
              "    </tr>\n",
              "    <tr>\n",
              "      <th>2019-06-25</th>\n",
              "      <td>192.880005</td>\n",
              "      <td>192.419998</td>\n",
              "      <td>0.460007</td>\n",
              "    </tr>\n",
              "    <tr>\n",
              "      <th>2019-06-26</th>\n",
              "      <td>189.539993</td>\n",
              "      <td>192.880005</td>\n",
              "      <td>-3.340012</td>\n",
              "    </tr>\n",
              "    <tr>\n",
              "      <th>...</th>\n",
              "      <td>...</td>\n",
              "      <td>...</td>\n",
              "      <td>...</td>\n",
              "    </tr>\n",
              "    <tr>\n",
              "      <th>2020-06-15</th>\n",
              "      <td>225.089996</td>\n",
              "      <td>229.899994</td>\n",
              "      <td>-4.809998</td>\n",
              "    </tr>\n",
              "    <tr>\n",
              "      <th>2020-06-16</th>\n",
              "      <td>237.139999</td>\n",
              "      <td>225.089996</td>\n",
              "      <td>12.050003</td>\n",
              "    </tr>\n",
              "    <tr>\n",
              "      <th>2020-06-17</th>\n",
              "      <td>235.000000</td>\n",
              "      <td>237.139999</td>\n",
              "      <td>-2.139999</td>\n",
              "    </tr>\n",
              "    <tr>\n",
              "      <th>2020-06-18</th>\n",
              "      <td>234.990005</td>\n",
              "      <td>235.000000</td>\n",
              "      <td>-0.009995</td>\n",
              "    </tr>\n",
              "    <tr>\n",
              "      <th>2020-06-19</th>\n",
              "      <td>237.789993</td>\n",
              "      <td>234.990005</td>\n",
              "      <td>2.799988</td>\n",
              "    </tr>\n",
              "  </tbody>\n",
              "</table>\n",
              "<p>253 rows × 3 columns</p>\n",
              "</div>"
            ],
            "text/plain": [
              "                  Open  Previous Day Opening  1 day cahnge \n",
              "Date                                                       \n",
              "2019-06-20  190.949997                   NaN            NaN\n",
              "2019-06-21  188.750000            190.949997      -2.199997\n",
              "2019-06-24  192.419998            188.750000       3.669998\n",
              "2019-06-25  192.880005            192.419998       0.460007\n",
              "2019-06-26  189.539993            192.880005      -3.340012\n",
              "...                ...                   ...            ...\n",
              "2020-06-15  225.089996            229.899994      -4.809998\n",
              "2020-06-16  237.139999            225.089996      12.050003\n",
              "2020-06-17  235.000000            237.139999      -2.139999\n",
              "2020-06-18  234.990005            235.000000      -0.009995\n",
              "2020-06-19  237.789993            234.990005       2.799988\n",
              "\n",
              "[253 rows x 3 columns]"
            ]
          },
          "metadata": {},
          "execution_count": 46
        }
      ]
    },
    {
      "cell_type": "code",
      "metadata": {
        "colab": {
          "base_uri": "https://localhost:8080/",
          "height": 450
        },
        "id": "_gJrW98Qvjk8",
        "outputId": "a99d18e8-864c-4722-e81b-194a7f060782"
      },
      "source": [
        "fb_data"
      ],
      "execution_count": 47,
      "outputs": [
        {
          "output_type": "execute_result",
          "data": {
            "text/html": [
              "<div>\n",
              "<style scoped>\n",
              "    .dataframe tbody tr th:only-of-type {\n",
              "        vertical-align: middle;\n",
              "    }\n",
              "\n",
              "    .dataframe tbody tr th {\n",
              "        vertical-align: top;\n",
              "    }\n",
              "\n",
              "    .dataframe thead th {\n",
              "        text-align: right;\n",
              "    }\n",
              "</style>\n",
              "<table border=\"1\" class=\"dataframe\">\n",
              "  <thead>\n",
              "    <tr style=\"text-align: right;\">\n",
              "      <th></th>\n",
              "      <th>Open</th>\n",
              "      <th>High</th>\n",
              "      <th>Low</th>\n",
              "      <th>Close</th>\n",
              "      <th>Adj Close</th>\n",
              "      <th>Volume</th>\n",
              "    </tr>\n",
              "    <tr>\n",
              "      <th>Date</th>\n",
              "      <th></th>\n",
              "      <th></th>\n",
              "      <th></th>\n",
              "      <th></th>\n",
              "      <th></th>\n",
              "      <th></th>\n",
              "    </tr>\n",
              "  </thead>\n",
              "  <tbody>\n",
              "    <tr>\n",
              "      <th>2019-06-20</th>\n",
              "      <td>190.949997</td>\n",
              "      <td>191.160004</td>\n",
              "      <td>187.639999</td>\n",
              "      <td>189.529999</td>\n",
              "      <td>189.529999</td>\n",
              "      <td>14635700</td>\n",
              "    </tr>\n",
              "    <tr>\n",
              "      <th>2019-06-21</th>\n",
              "      <td>188.750000</td>\n",
              "      <td>192.000000</td>\n",
              "      <td>188.750000</td>\n",
              "      <td>191.139999</td>\n",
              "      <td>191.139999</td>\n",
              "      <td>22751200</td>\n",
              "    </tr>\n",
              "    <tr>\n",
              "      <th>2019-06-24</th>\n",
              "      <td>192.419998</td>\n",
              "      <td>193.979996</td>\n",
              "      <td>191.570007</td>\n",
              "      <td>192.600006</td>\n",
              "      <td>192.600006</td>\n",
              "      <td>15509000</td>\n",
              "    </tr>\n",
              "    <tr>\n",
              "      <th>2019-06-25</th>\n",
              "      <td>192.880005</td>\n",
              "      <td>193.139999</td>\n",
              "      <td>188.130005</td>\n",
              "      <td>188.839996</td>\n",
              "      <td>188.839996</td>\n",
              "      <td>16750300</td>\n",
              "    </tr>\n",
              "    <tr>\n",
              "      <th>2019-06-26</th>\n",
              "      <td>189.539993</td>\n",
              "      <td>190.759995</td>\n",
              "      <td>187.309998</td>\n",
              "      <td>187.660004</td>\n",
              "      <td>187.660004</td>\n",
              "      <td>12808600</td>\n",
              "    </tr>\n",
              "    <tr>\n",
              "      <th>...</th>\n",
              "      <td>...</td>\n",
              "      <td>...</td>\n",
              "      <td>...</td>\n",
              "      <td>...</td>\n",
              "      <td>...</td>\n",
              "      <td>...</td>\n",
              "    </tr>\n",
              "    <tr>\n",
              "      <th>2020-06-15</th>\n",
              "      <td>225.089996</td>\n",
              "      <td>233.770004</td>\n",
              "      <td>224.800003</td>\n",
              "      <td>232.500000</td>\n",
              "      <td>232.500000</td>\n",
              "      <td>15340300</td>\n",
              "    </tr>\n",
              "    <tr>\n",
              "      <th>2020-06-16</th>\n",
              "      <td>237.139999</td>\n",
              "      <td>238.460007</td>\n",
              "      <td>233.000000</td>\n",
              "      <td>235.649994</td>\n",
              "      <td>235.649994</td>\n",
              "      <td>15236700</td>\n",
              "    </tr>\n",
              "    <tr>\n",
              "      <th>2020-06-17</th>\n",
              "      <td>235.000000</td>\n",
              "      <td>237.589996</td>\n",
              "      <td>231.729996</td>\n",
              "      <td>235.529999</td>\n",
              "      <td>235.529999</td>\n",
              "      <td>19552800</td>\n",
              "    </tr>\n",
              "    <tr>\n",
              "      <th>2020-06-18</th>\n",
              "      <td>234.990005</td>\n",
              "      <td>236.139999</td>\n",
              "      <td>232.149994</td>\n",
              "      <td>235.940002</td>\n",
              "      <td>235.940002</td>\n",
              "      <td>15782500</td>\n",
              "    </tr>\n",
              "    <tr>\n",
              "      <th>2020-06-19</th>\n",
              "      <td>237.789993</td>\n",
              "      <td>240.830002</td>\n",
              "      <td>235.550003</td>\n",
              "      <td>238.789993</td>\n",
              "      <td>238.789993</td>\n",
              "      <td>30069700</td>\n",
              "    </tr>\n",
              "  </tbody>\n",
              "</table>\n",
              "<p>253 rows × 6 columns</p>\n",
              "</div>"
            ],
            "text/plain": [
              "                  Open        High  ...   Adj Close    Volume\n",
              "Date                                ...                      \n",
              "2019-06-20  190.949997  191.160004  ...  189.529999  14635700\n",
              "2019-06-21  188.750000  192.000000  ...  191.139999  22751200\n",
              "2019-06-24  192.419998  193.979996  ...  192.600006  15509000\n",
              "2019-06-25  192.880005  193.139999  ...  188.839996  16750300\n",
              "2019-06-26  189.539993  190.759995  ...  187.660004  12808600\n",
              "...                ...         ...  ...         ...       ...\n",
              "2020-06-15  225.089996  233.770004  ...  232.500000  15340300\n",
              "2020-06-16  237.139999  238.460007  ...  235.649994  15236700\n",
              "2020-06-17  235.000000  237.589996  ...  235.529999  19552800\n",
              "2020-06-18  234.990005  236.139999  ...  235.940002  15782500\n",
              "2020-06-19  237.789993  240.830002  ...  238.789993  30069700\n",
              "\n",
              "[253 rows x 6 columns]"
            ]
          },
          "metadata": {},
          "execution_count": 47
        }
      ]
    },
    {
      "cell_type": "code",
      "metadata": {
        "id": "K7oTQOQFv1Cz"
      },
      "source": [
        "fb_data.index=fb_data.index.tz_localize(tz=\"US/Eastern\")"
      ],
      "execution_count": 49,
      "outputs": []
    },
    {
      "cell_type": "code",
      "metadata": {
        "colab": {
          "base_uri": "https://localhost:8080/"
        },
        "id": "YcOe_46Zv5ii",
        "outputId": "b9aae769-ed68-4c88-8892-1b903a930959"
      },
      "source": [
        "fb_data.index"
      ],
      "execution_count": 51,
      "outputs": [
        {
          "output_type": "execute_result",
          "data": {
            "text/plain": [
              "DatetimeIndex(['2019-06-20 00:00:00-04:00', '2019-06-21 00:00:00-04:00',\n",
              "               '2019-06-24 00:00:00-04:00', '2019-06-25 00:00:00-04:00',\n",
              "               '2019-06-26 00:00:00-04:00', '2019-06-27 00:00:00-04:00',\n",
              "               '2019-06-28 00:00:00-04:00', '2019-07-01 00:00:00-04:00',\n",
              "               '2019-07-02 00:00:00-04:00', '2019-07-03 00:00:00-04:00',\n",
              "               ...\n",
              "               '2020-06-08 00:00:00-04:00', '2020-06-09 00:00:00-04:00',\n",
              "               '2020-06-10 00:00:00-04:00', '2020-06-11 00:00:00-04:00',\n",
              "               '2020-06-12 00:00:00-04:00', '2020-06-15 00:00:00-04:00',\n",
              "               '2020-06-16 00:00:00-04:00', '2020-06-17 00:00:00-04:00',\n",
              "               '2020-06-18 00:00:00-04:00', '2020-06-19 00:00:00-04:00'],\n",
              "              dtype='datetime64[ns, US/Eastern]', name='Date', length=253, freq=None)"
            ]
          },
          "metadata": {},
          "execution_count": 51
        }
      ]
    },
    {
      "cell_type": "code",
      "metadata": {
        "colab": {
          "base_uri": "https://localhost:8080/"
        },
        "id": "UpAmWqwmu0xh",
        "outputId": "64e09cb6-26b0-439f-9e1b-c12c99bbf3d2"
      },
      "source": [
        "from pytz import all_timezones\n",
        "print(all_timezones)"
      ],
      "execution_count": 48,
      "outputs": [
        {
          "output_type": "stream",
          "name": "stdout",
          "text": [
            "['Africa/Abidjan', 'Africa/Accra', 'Africa/Addis_Ababa', 'Africa/Algiers', 'Africa/Asmara', 'Africa/Asmera', 'Africa/Bamako', 'Africa/Bangui', 'Africa/Banjul', 'Africa/Bissau', 'Africa/Blantyre', 'Africa/Brazzaville', 'Africa/Bujumbura', 'Africa/Cairo', 'Africa/Casablanca', 'Africa/Ceuta', 'Africa/Conakry', 'Africa/Dakar', 'Africa/Dar_es_Salaam', 'Africa/Djibouti', 'Africa/Douala', 'Africa/El_Aaiun', 'Africa/Freetown', 'Africa/Gaborone', 'Africa/Harare', 'Africa/Johannesburg', 'Africa/Juba', 'Africa/Kampala', 'Africa/Khartoum', 'Africa/Kigali', 'Africa/Kinshasa', 'Africa/Lagos', 'Africa/Libreville', 'Africa/Lome', 'Africa/Luanda', 'Africa/Lubumbashi', 'Africa/Lusaka', 'Africa/Malabo', 'Africa/Maputo', 'Africa/Maseru', 'Africa/Mbabane', 'Africa/Mogadishu', 'Africa/Monrovia', 'Africa/Nairobi', 'Africa/Ndjamena', 'Africa/Niamey', 'Africa/Nouakchott', 'Africa/Ouagadougou', 'Africa/Porto-Novo', 'Africa/Sao_Tome', 'Africa/Timbuktu', 'Africa/Tripoli', 'Africa/Tunis', 'Africa/Windhoek', 'America/Adak', 'America/Anchorage', 'America/Anguilla', 'America/Antigua', 'America/Araguaina', 'America/Argentina/Buenos_Aires', 'America/Argentina/Catamarca', 'America/Argentina/ComodRivadavia', 'America/Argentina/Cordoba', 'America/Argentina/Jujuy', 'America/Argentina/La_Rioja', 'America/Argentina/Mendoza', 'America/Argentina/Rio_Gallegos', 'America/Argentina/Salta', 'America/Argentina/San_Juan', 'America/Argentina/San_Luis', 'America/Argentina/Tucuman', 'America/Argentina/Ushuaia', 'America/Aruba', 'America/Asuncion', 'America/Atikokan', 'America/Atka', 'America/Bahia', 'America/Bahia_Banderas', 'America/Barbados', 'America/Belem', 'America/Belize', 'America/Blanc-Sablon', 'America/Boa_Vista', 'America/Bogota', 'America/Boise', 'America/Buenos_Aires', 'America/Cambridge_Bay', 'America/Campo_Grande', 'America/Cancun', 'America/Caracas', 'America/Catamarca', 'America/Cayenne', 'America/Cayman', 'America/Chicago', 'America/Chihuahua', 'America/Coral_Harbour', 'America/Cordoba', 'America/Costa_Rica', 'America/Creston', 'America/Cuiaba', 'America/Curacao', 'America/Danmarkshavn', 'America/Dawson', 'America/Dawson_Creek', 'America/Denver', 'America/Detroit', 'America/Dominica', 'America/Edmonton', 'America/Eirunepe', 'America/El_Salvador', 'America/Ensenada', 'America/Fort_Nelson', 'America/Fort_Wayne', 'America/Fortaleza', 'America/Glace_Bay', 'America/Godthab', 'America/Goose_Bay', 'America/Grand_Turk', 'America/Grenada', 'America/Guadeloupe', 'America/Guatemala', 'America/Guayaquil', 'America/Guyana', 'America/Halifax', 'America/Havana', 'America/Hermosillo', 'America/Indiana/Indianapolis', 'America/Indiana/Knox', 'America/Indiana/Marengo', 'America/Indiana/Petersburg', 'America/Indiana/Tell_City', 'America/Indiana/Vevay', 'America/Indiana/Vincennes', 'America/Indiana/Winamac', 'America/Indianapolis', 'America/Inuvik', 'America/Iqaluit', 'America/Jamaica', 'America/Jujuy', 'America/Juneau', 'America/Kentucky/Louisville', 'America/Kentucky/Monticello', 'America/Knox_IN', 'America/Kralendijk', 'America/La_Paz', 'America/Lima', 'America/Los_Angeles', 'America/Louisville', 'America/Lower_Princes', 'America/Maceio', 'America/Managua', 'America/Manaus', 'America/Marigot', 'America/Martinique', 'America/Matamoros', 'America/Mazatlan', 'America/Mendoza', 'America/Menominee', 'America/Merida', 'America/Metlakatla', 'America/Mexico_City', 'America/Miquelon', 'America/Moncton', 'America/Monterrey', 'America/Montevideo', 'America/Montreal', 'America/Montserrat', 'America/Nassau', 'America/New_York', 'America/Nipigon', 'America/Nome', 'America/Noronha', 'America/North_Dakota/Beulah', 'America/North_Dakota/Center', 'America/North_Dakota/New_Salem', 'America/Ojinaga', 'America/Panama', 'America/Pangnirtung', 'America/Paramaribo', 'America/Phoenix', 'America/Port-au-Prince', 'America/Port_of_Spain', 'America/Porto_Acre', 'America/Porto_Velho', 'America/Puerto_Rico', 'America/Punta_Arenas', 'America/Rainy_River', 'America/Rankin_Inlet', 'America/Recife', 'America/Regina', 'America/Resolute', 'America/Rio_Branco', 'America/Rosario', 'America/Santa_Isabel', 'America/Santarem', 'America/Santiago', 'America/Santo_Domingo', 'America/Sao_Paulo', 'America/Scoresbysund', 'America/Shiprock', 'America/Sitka', 'America/St_Barthelemy', 'America/St_Johns', 'America/St_Kitts', 'America/St_Lucia', 'America/St_Thomas', 'America/St_Vincent', 'America/Swift_Current', 'America/Tegucigalpa', 'America/Thule', 'America/Thunder_Bay', 'America/Tijuana', 'America/Toronto', 'America/Tortola', 'America/Vancouver', 'America/Virgin', 'America/Whitehorse', 'America/Winnipeg', 'America/Yakutat', 'America/Yellowknife', 'Antarctica/Casey', 'Antarctica/Davis', 'Antarctica/DumontDUrville', 'Antarctica/Macquarie', 'Antarctica/Mawson', 'Antarctica/McMurdo', 'Antarctica/Palmer', 'Antarctica/Rothera', 'Antarctica/South_Pole', 'Antarctica/Syowa', 'Antarctica/Troll', 'Antarctica/Vostok', 'Arctic/Longyearbyen', 'Asia/Aden', 'Asia/Almaty', 'Asia/Amman', 'Asia/Anadyr', 'Asia/Aqtau', 'Asia/Aqtobe', 'Asia/Ashgabat', 'Asia/Ashkhabad', 'Asia/Atyrau', 'Asia/Baghdad', 'Asia/Bahrain', 'Asia/Baku', 'Asia/Bangkok', 'Asia/Barnaul', 'Asia/Beirut', 'Asia/Bishkek', 'Asia/Brunei', 'Asia/Calcutta', 'Asia/Chita', 'Asia/Choibalsan', 'Asia/Chongqing', 'Asia/Chungking', 'Asia/Colombo', 'Asia/Dacca', 'Asia/Damascus', 'Asia/Dhaka', 'Asia/Dili', 'Asia/Dubai', 'Asia/Dushanbe', 'Asia/Famagusta', 'Asia/Gaza', 'Asia/Harbin', 'Asia/Hebron', 'Asia/Ho_Chi_Minh', 'Asia/Hong_Kong', 'Asia/Hovd', 'Asia/Irkutsk', 'Asia/Istanbul', 'Asia/Jakarta', 'Asia/Jayapura', 'Asia/Jerusalem', 'Asia/Kabul', 'Asia/Kamchatka', 'Asia/Karachi', 'Asia/Kashgar', 'Asia/Kathmandu', 'Asia/Katmandu', 'Asia/Khandyga', 'Asia/Kolkata', 'Asia/Krasnoyarsk', 'Asia/Kuala_Lumpur', 'Asia/Kuching', 'Asia/Kuwait', 'Asia/Macao', 'Asia/Macau', 'Asia/Magadan', 'Asia/Makassar', 'Asia/Manila', 'Asia/Muscat', 'Asia/Nicosia', 'Asia/Novokuznetsk', 'Asia/Novosibirsk', 'Asia/Omsk', 'Asia/Oral', 'Asia/Phnom_Penh', 'Asia/Pontianak', 'Asia/Pyongyang', 'Asia/Qatar', 'Asia/Qostanay', 'Asia/Qyzylorda', 'Asia/Rangoon', 'Asia/Riyadh', 'Asia/Saigon', 'Asia/Sakhalin', 'Asia/Samarkand', 'Asia/Seoul', 'Asia/Shanghai', 'Asia/Singapore', 'Asia/Srednekolymsk', 'Asia/Taipei', 'Asia/Tashkent', 'Asia/Tbilisi', 'Asia/Tehran', 'Asia/Tel_Aviv', 'Asia/Thimbu', 'Asia/Thimphu', 'Asia/Tokyo', 'Asia/Tomsk', 'Asia/Ujung_Pandang', 'Asia/Ulaanbaatar', 'Asia/Ulan_Bator', 'Asia/Urumqi', 'Asia/Ust-Nera', 'Asia/Vientiane', 'Asia/Vladivostok', 'Asia/Yakutsk', 'Asia/Yangon', 'Asia/Yekaterinburg', 'Asia/Yerevan', 'Atlantic/Azores', 'Atlantic/Bermuda', 'Atlantic/Canary', 'Atlantic/Cape_Verde', 'Atlantic/Faeroe', 'Atlantic/Faroe', 'Atlantic/Jan_Mayen', 'Atlantic/Madeira', 'Atlantic/Reykjavik', 'Atlantic/South_Georgia', 'Atlantic/St_Helena', 'Atlantic/Stanley', 'Australia/ACT', 'Australia/Adelaide', 'Australia/Brisbane', 'Australia/Broken_Hill', 'Australia/Canberra', 'Australia/Currie', 'Australia/Darwin', 'Australia/Eucla', 'Australia/Hobart', 'Australia/LHI', 'Australia/Lindeman', 'Australia/Lord_Howe', 'Australia/Melbourne', 'Australia/NSW', 'Australia/North', 'Australia/Perth', 'Australia/Queensland', 'Australia/South', 'Australia/Sydney', 'Australia/Tasmania', 'Australia/Victoria', 'Australia/West', 'Australia/Yancowinna', 'Brazil/Acre', 'Brazil/DeNoronha', 'Brazil/East', 'Brazil/West', 'CET', 'CST6CDT', 'Canada/Atlantic', 'Canada/Central', 'Canada/Eastern', 'Canada/Mountain', 'Canada/Newfoundland', 'Canada/Pacific', 'Canada/Saskatchewan', 'Canada/Yukon', 'Chile/Continental', 'Chile/EasterIsland', 'Cuba', 'EET', 'EST', 'EST5EDT', 'Egypt', 'Eire', 'Etc/GMT', 'Etc/GMT+0', 'Etc/GMT+1', 'Etc/GMT+10', 'Etc/GMT+11', 'Etc/GMT+12', 'Etc/GMT+2', 'Etc/GMT+3', 'Etc/GMT+4', 'Etc/GMT+5', 'Etc/GMT+6', 'Etc/GMT+7', 'Etc/GMT+8', 'Etc/GMT+9', 'Etc/GMT-0', 'Etc/GMT-1', 'Etc/GMT-10', 'Etc/GMT-11', 'Etc/GMT-12', 'Etc/GMT-13', 'Etc/GMT-14', 'Etc/GMT-2', 'Etc/GMT-3', 'Etc/GMT-4', 'Etc/GMT-5', 'Etc/GMT-6', 'Etc/GMT-7', 'Etc/GMT-8', 'Etc/GMT-9', 'Etc/GMT0', 'Etc/Greenwich', 'Etc/UCT', 'Etc/UTC', 'Etc/Universal', 'Etc/Zulu', 'Europe/Amsterdam', 'Europe/Andorra', 'Europe/Astrakhan', 'Europe/Athens', 'Europe/Belfast', 'Europe/Belgrade', 'Europe/Berlin', 'Europe/Bratislava', 'Europe/Brussels', 'Europe/Bucharest', 'Europe/Budapest', 'Europe/Busingen', 'Europe/Chisinau', 'Europe/Copenhagen', 'Europe/Dublin', 'Europe/Gibraltar', 'Europe/Guernsey', 'Europe/Helsinki', 'Europe/Isle_of_Man', 'Europe/Istanbul', 'Europe/Jersey', 'Europe/Kaliningrad', 'Europe/Kiev', 'Europe/Kirov', 'Europe/Lisbon', 'Europe/Ljubljana', 'Europe/London', 'Europe/Luxembourg', 'Europe/Madrid', 'Europe/Malta', 'Europe/Mariehamn', 'Europe/Minsk', 'Europe/Monaco', 'Europe/Moscow', 'Europe/Nicosia', 'Europe/Oslo', 'Europe/Paris', 'Europe/Podgorica', 'Europe/Prague', 'Europe/Riga', 'Europe/Rome', 'Europe/Samara', 'Europe/San_Marino', 'Europe/Sarajevo', 'Europe/Saratov', 'Europe/Simferopol', 'Europe/Skopje', 'Europe/Sofia', 'Europe/Stockholm', 'Europe/Tallinn', 'Europe/Tirane', 'Europe/Tiraspol', 'Europe/Ulyanovsk', 'Europe/Uzhgorod', 'Europe/Vaduz', 'Europe/Vatican', 'Europe/Vienna', 'Europe/Vilnius', 'Europe/Volgograd', 'Europe/Warsaw', 'Europe/Zagreb', 'Europe/Zaporozhye', 'Europe/Zurich', 'GB', 'GB-Eire', 'GMT', 'GMT+0', 'GMT-0', 'GMT0', 'Greenwich', 'HST', 'Hongkong', 'Iceland', 'Indian/Antananarivo', 'Indian/Chagos', 'Indian/Christmas', 'Indian/Cocos', 'Indian/Comoro', 'Indian/Kerguelen', 'Indian/Mahe', 'Indian/Maldives', 'Indian/Mauritius', 'Indian/Mayotte', 'Indian/Reunion', 'Iran', 'Israel', 'Jamaica', 'Japan', 'Kwajalein', 'Libya', 'MET', 'MST', 'MST7MDT', 'Mexico/BajaNorte', 'Mexico/BajaSur', 'Mexico/General', 'NZ', 'NZ-CHAT', 'Navajo', 'PRC', 'PST8PDT', 'Pacific/Apia', 'Pacific/Auckland', 'Pacific/Bougainville', 'Pacific/Chatham', 'Pacific/Chuuk', 'Pacific/Easter', 'Pacific/Efate', 'Pacific/Enderbury', 'Pacific/Fakaofo', 'Pacific/Fiji', 'Pacific/Funafuti', 'Pacific/Galapagos', 'Pacific/Gambier', 'Pacific/Guadalcanal', 'Pacific/Guam', 'Pacific/Honolulu', 'Pacific/Johnston', 'Pacific/Kiritimati', 'Pacific/Kosrae', 'Pacific/Kwajalein', 'Pacific/Majuro', 'Pacific/Marquesas', 'Pacific/Midway', 'Pacific/Nauru', 'Pacific/Niue', 'Pacific/Norfolk', 'Pacific/Noumea', 'Pacific/Pago_Pago', 'Pacific/Palau', 'Pacific/Pitcairn', 'Pacific/Pohnpei', 'Pacific/Ponape', 'Pacific/Port_Moresby', 'Pacific/Rarotonga', 'Pacific/Saipan', 'Pacific/Samoa', 'Pacific/Tahiti', 'Pacific/Tarawa', 'Pacific/Tongatapu', 'Pacific/Truk', 'Pacific/Wake', 'Pacific/Wallis', 'Pacific/Yap', 'Poland', 'Portugal', 'ROC', 'ROK', 'Singapore', 'Turkey', 'UCT', 'US/Alaska', 'US/Aleutian', 'US/Arizona', 'US/Central', 'US/East-Indiana', 'US/Eastern', 'US/Hawaii', 'US/Indiana-Starke', 'US/Michigan', 'US/Mountain', 'US/Pacific', 'US/Samoa', 'UTC', 'Universal', 'W-SU', 'WET', 'Zulu']\n"
          ]
        }
      ]
    },
    {
      "cell_type": "markdown",
      "metadata": {
        "id": "8lb7uojlwIB_"
      },
      "source": [
        "## How to Generate Missing Dates"
      ]
    },
    {
      "cell_type": "code",
      "metadata": {
        "id": "Rgku0NDNwLwf"
      },
      "source": [
        "rng=pd.date_range(start=\"11/1/2020\",periods=10)"
      ],
      "execution_count": 53,
      "outputs": []
    },
    {
      "cell_type": "code",
      "metadata": {
        "colab": {
          "base_uri": "https://localhost:8080/"
        },
        "id": "y5u0usWbwjv1",
        "outputId": "b30569b7-2c49-4cb8-dcc5-7fd43fdf50e1"
      },
      "source": [
        "rng"
      ],
      "execution_count": 54,
      "outputs": [
        {
          "output_type": "execute_result",
          "data": {
            "text/plain": [
              "DatetimeIndex(['2020-11-01', '2020-11-02', '2020-11-03', '2020-11-04',\n",
              "               '2020-11-05', '2020-11-06', '2020-11-07', '2020-11-08',\n",
              "               '2020-11-09', '2020-11-10'],\n",
              "              dtype='datetime64[ns]', freq='D')"
            ]
          },
          "metadata": {},
          "execution_count": 54
        }
      ]
    },
    {
      "cell_type": "code",
      "metadata": {
        "id": "hVF6P6-Nwlf0"
      },
      "source": [
        "range=pd.date_range(start=\"11/01/2021\",periods=10,freq=\"B\")"
      ],
      "execution_count": 55,
      "outputs": []
    },
    {
      "cell_type": "code",
      "metadata": {
        "colab": {
          "base_uri": "https://localhost:8080/"
        },
        "id": "bco32v7jw1Z2",
        "outputId": "9299d62d-8026-4c1f-e921-629c67c31ebd"
      },
      "source": [
        "range"
      ],
      "execution_count": 56,
      "outputs": [
        {
          "output_type": "execute_result",
          "data": {
            "text/plain": [
              "DatetimeIndex(['2021-11-01', '2021-11-02', '2021-11-03', '2021-11-04',\n",
              "               '2021-11-05', '2021-11-08', '2021-11-09', '2021-11-10',\n",
              "               '2021-11-11', '2021-11-12'],\n",
              "              dtype='datetime64[ns]', freq='B')"
            ]
          },
          "metadata": {},
          "execution_count": 56
        }
      ]
    },
    {
      "cell_type": "code",
      "metadata": {
        "colab": {
          "base_uri": "https://localhost:8080/",
          "height": 450
        },
        "id": "JW1J78vww9IU",
        "outputId": "ce9bf4fd-6425-4471-fd3f-233307b03ccf"
      },
      "source": [
        "#Rolling Function aggregates data for a specified number of DateTime. Suppose we weant to take a mean of every 3 days. \n",
        "fb_data"
      ],
      "execution_count": 57,
      "outputs": [
        {
          "output_type": "execute_result",
          "data": {
            "text/html": [
              "<div>\n",
              "<style scoped>\n",
              "    .dataframe tbody tr th:only-of-type {\n",
              "        vertical-align: middle;\n",
              "    }\n",
              "\n",
              "    .dataframe tbody tr th {\n",
              "        vertical-align: top;\n",
              "    }\n",
              "\n",
              "    .dataframe thead th {\n",
              "        text-align: right;\n",
              "    }\n",
              "</style>\n",
              "<table border=\"1\" class=\"dataframe\">\n",
              "  <thead>\n",
              "    <tr style=\"text-align: right;\">\n",
              "      <th></th>\n",
              "      <th>Open</th>\n",
              "      <th>High</th>\n",
              "      <th>Low</th>\n",
              "      <th>Close</th>\n",
              "      <th>Adj Close</th>\n",
              "      <th>Volume</th>\n",
              "    </tr>\n",
              "    <tr>\n",
              "      <th>Date</th>\n",
              "      <th></th>\n",
              "      <th></th>\n",
              "      <th></th>\n",
              "      <th></th>\n",
              "      <th></th>\n",
              "      <th></th>\n",
              "    </tr>\n",
              "  </thead>\n",
              "  <tbody>\n",
              "    <tr>\n",
              "      <th>2019-06-20 00:00:00-04:00</th>\n",
              "      <td>190.949997</td>\n",
              "      <td>191.160004</td>\n",
              "      <td>187.639999</td>\n",
              "      <td>189.529999</td>\n",
              "      <td>189.529999</td>\n",
              "      <td>14635700</td>\n",
              "    </tr>\n",
              "    <tr>\n",
              "      <th>2019-06-21 00:00:00-04:00</th>\n",
              "      <td>188.750000</td>\n",
              "      <td>192.000000</td>\n",
              "      <td>188.750000</td>\n",
              "      <td>191.139999</td>\n",
              "      <td>191.139999</td>\n",
              "      <td>22751200</td>\n",
              "    </tr>\n",
              "    <tr>\n",
              "      <th>2019-06-24 00:00:00-04:00</th>\n",
              "      <td>192.419998</td>\n",
              "      <td>193.979996</td>\n",
              "      <td>191.570007</td>\n",
              "      <td>192.600006</td>\n",
              "      <td>192.600006</td>\n",
              "      <td>15509000</td>\n",
              "    </tr>\n",
              "    <tr>\n",
              "      <th>2019-06-25 00:00:00-04:00</th>\n",
              "      <td>192.880005</td>\n",
              "      <td>193.139999</td>\n",
              "      <td>188.130005</td>\n",
              "      <td>188.839996</td>\n",
              "      <td>188.839996</td>\n",
              "      <td>16750300</td>\n",
              "    </tr>\n",
              "    <tr>\n",
              "      <th>2019-06-26 00:00:00-04:00</th>\n",
              "      <td>189.539993</td>\n",
              "      <td>190.759995</td>\n",
              "      <td>187.309998</td>\n",
              "      <td>187.660004</td>\n",
              "      <td>187.660004</td>\n",
              "      <td>12808600</td>\n",
              "    </tr>\n",
              "    <tr>\n",
              "      <th>...</th>\n",
              "      <td>...</td>\n",
              "      <td>...</td>\n",
              "      <td>...</td>\n",
              "      <td>...</td>\n",
              "      <td>...</td>\n",
              "      <td>...</td>\n",
              "    </tr>\n",
              "    <tr>\n",
              "      <th>2020-06-15 00:00:00-04:00</th>\n",
              "      <td>225.089996</td>\n",
              "      <td>233.770004</td>\n",
              "      <td>224.800003</td>\n",
              "      <td>232.500000</td>\n",
              "      <td>232.500000</td>\n",
              "      <td>15340300</td>\n",
              "    </tr>\n",
              "    <tr>\n",
              "      <th>2020-06-16 00:00:00-04:00</th>\n",
              "      <td>237.139999</td>\n",
              "      <td>238.460007</td>\n",
              "      <td>233.000000</td>\n",
              "      <td>235.649994</td>\n",
              "      <td>235.649994</td>\n",
              "      <td>15236700</td>\n",
              "    </tr>\n",
              "    <tr>\n",
              "      <th>2020-06-17 00:00:00-04:00</th>\n",
              "      <td>235.000000</td>\n",
              "      <td>237.589996</td>\n",
              "      <td>231.729996</td>\n",
              "      <td>235.529999</td>\n",
              "      <td>235.529999</td>\n",
              "      <td>19552800</td>\n",
              "    </tr>\n",
              "    <tr>\n",
              "      <th>2020-06-18 00:00:00-04:00</th>\n",
              "      <td>234.990005</td>\n",
              "      <td>236.139999</td>\n",
              "      <td>232.149994</td>\n",
              "      <td>235.940002</td>\n",
              "      <td>235.940002</td>\n",
              "      <td>15782500</td>\n",
              "    </tr>\n",
              "    <tr>\n",
              "      <th>2020-06-19 00:00:00-04:00</th>\n",
              "      <td>237.789993</td>\n",
              "      <td>240.830002</td>\n",
              "      <td>235.550003</td>\n",
              "      <td>238.789993</td>\n",
              "      <td>238.789993</td>\n",
              "      <td>30069700</td>\n",
              "    </tr>\n",
              "  </tbody>\n",
              "</table>\n",
              "<p>253 rows × 6 columns</p>\n",
              "</div>"
            ],
            "text/plain": [
              "                                 Open        High  ...   Adj Close    Volume\n",
              "Date                                               ...                      \n",
              "2019-06-20 00:00:00-04:00  190.949997  191.160004  ...  189.529999  14635700\n",
              "2019-06-21 00:00:00-04:00  188.750000  192.000000  ...  191.139999  22751200\n",
              "2019-06-24 00:00:00-04:00  192.419998  193.979996  ...  192.600006  15509000\n",
              "2019-06-25 00:00:00-04:00  192.880005  193.139999  ...  188.839996  16750300\n",
              "2019-06-26 00:00:00-04:00  189.539993  190.759995  ...  187.660004  12808600\n",
              "...                               ...         ...  ...         ...       ...\n",
              "2020-06-15 00:00:00-04:00  225.089996  233.770004  ...  232.500000  15340300\n",
              "2020-06-16 00:00:00-04:00  237.139999  238.460007  ...  235.649994  15236700\n",
              "2020-06-17 00:00:00-04:00  235.000000  237.589996  ...  235.529999  19552800\n",
              "2020-06-18 00:00:00-04:00  234.990005  236.139999  ...  235.940002  15782500\n",
              "2020-06-19 00:00:00-04:00  237.789993  240.830002  ...  238.789993  30069700\n",
              "\n",
              "[253 rows x 6 columns]"
            ]
          },
          "metadata": {},
          "execution_count": 57
        }
      ]
    },
    {
      "cell_type": "code",
      "metadata": {
        "colab": {
          "base_uri": "https://localhost:8080/",
          "height": 450
        },
        "id": "aE4vU-bCxQkM",
        "outputId": "4421cdf9-d0d5-4a80-fbbf-20cd62688996"
      },
      "source": [
        "fb_data[[\"High\"]].rolling(3).mean() #2 brackets means 2D array"
      ],
      "execution_count": 60,
      "outputs": [
        {
          "output_type": "execute_result",
          "data": {
            "text/html": [
              "<div>\n",
              "<style scoped>\n",
              "    .dataframe tbody tr th:only-of-type {\n",
              "        vertical-align: middle;\n",
              "    }\n",
              "\n",
              "    .dataframe tbody tr th {\n",
              "        vertical-align: top;\n",
              "    }\n",
              "\n",
              "    .dataframe thead th {\n",
              "        text-align: right;\n",
              "    }\n",
              "</style>\n",
              "<table border=\"1\" class=\"dataframe\">\n",
              "  <thead>\n",
              "    <tr style=\"text-align: right;\">\n",
              "      <th></th>\n",
              "      <th>High</th>\n",
              "    </tr>\n",
              "    <tr>\n",
              "      <th>Date</th>\n",
              "      <th></th>\n",
              "    </tr>\n",
              "  </thead>\n",
              "  <tbody>\n",
              "    <tr>\n",
              "      <th>2019-06-20 00:00:00-04:00</th>\n",
              "      <td>NaN</td>\n",
              "    </tr>\n",
              "    <tr>\n",
              "      <th>2019-06-21 00:00:00-04:00</th>\n",
              "      <td>NaN</td>\n",
              "    </tr>\n",
              "    <tr>\n",
              "      <th>2019-06-24 00:00:00-04:00</th>\n",
              "      <td>192.380000</td>\n",
              "    </tr>\n",
              "    <tr>\n",
              "      <th>2019-06-25 00:00:00-04:00</th>\n",
              "      <td>193.039998</td>\n",
              "    </tr>\n",
              "    <tr>\n",
              "      <th>2019-06-26 00:00:00-04:00</th>\n",
              "      <td>192.626663</td>\n",
              "    </tr>\n",
              "    <tr>\n",
              "      <th>...</th>\n",
              "      <td>...</td>\n",
              "    </tr>\n",
              "    <tr>\n",
              "      <th>2020-06-15 00:00:00-04:00</th>\n",
              "      <td>232.773336</td>\n",
              "    </tr>\n",
              "    <tr>\n",
              "      <th>2020-06-16 00:00:00-04:00</th>\n",
              "      <td>234.630005</td>\n",
              "    </tr>\n",
              "    <tr>\n",
              "      <th>2020-06-17 00:00:00-04:00</th>\n",
              "      <td>236.606669</td>\n",
              "    </tr>\n",
              "    <tr>\n",
              "      <th>2020-06-18 00:00:00-04:00</th>\n",
              "      <td>237.396667</td>\n",
              "    </tr>\n",
              "    <tr>\n",
              "      <th>2020-06-19 00:00:00-04:00</th>\n",
              "      <td>238.186666</td>\n",
              "    </tr>\n",
              "  </tbody>\n",
              "</table>\n",
              "<p>253 rows × 1 columns</p>\n",
              "</div>"
            ],
            "text/plain": [
              "                                 High\n",
              "Date                                 \n",
              "2019-06-20 00:00:00-04:00         NaN\n",
              "2019-06-21 00:00:00-04:00         NaN\n",
              "2019-06-24 00:00:00-04:00  192.380000\n",
              "2019-06-25 00:00:00-04:00  193.039998\n",
              "2019-06-26 00:00:00-04:00  192.626663\n",
              "...                               ...\n",
              "2020-06-15 00:00:00-04:00  232.773336\n",
              "2020-06-16 00:00:00-04:00  234.630005\n",
              "2020-06-17 00:00:00-04:00  236.606669\n",
              "2020-06-18 00:00:00-04:00  237.396667\n",
              "2020-06-19 00:00:00-04:00  238.186666\n",
              "\n",
              "[253 rows x 1 columns]"
            ]
          },
          "metadata": {},
          "execution_count": 60
        }
      ]
    },
    {
      "cell_type": "code",
      "metadata": {
        "id": "OPymJ3XuxqC0"
      },
      "source": [
        "#We want to make the weekly average\n",
        "data_roll=fb_data[[\"High\",\"Low\"]].rolling(window=7,center=True).mean()"
      ],
      "execution_count": 62,
      "outputs": []
    },
    {
      "cell_type": "code",
      "metadata": {
        "colab": {
          "base_uri": "https://localhost:8080/",
          "height": 450
        },
        "id": "jhzeidaqyKfF",
        "outputId": "277faabc-67a1-4801-fd7a-412bd336c82a"
      },
      "source": [
        "data_roll"
      ],
      "execution_count": 63,
      "outputs": [
        {
          "output_type": "execute_result",
          "data": {
            "text/html": [
              "<div>\n",
              "<style scoped>\n",
              "    .dataframe tbody tr th:only-of-type {\n",
              "        vertical-align: middle;\n",
              "    }\n",
              "\n",
              "    .dataframe tbody tr th {\n",
              "        vertical-align: top;\n",
              "    }\n",
              "\n",
              "    .dataframe thead th {\n",
              "        text-align: right;\n",
              "    }\n",
              "</style>\n",
              "<table border=\"1\" class=\"dataframe\">\n",
              "  <thead>\n",
              "    <tr style=\"text-align: right;\">\n",
              "      <th></th>\n",
              "      <th>High</th>\n",
              "      <th>Low</th>\n",
              "    </tr>\n",
              "    <tr>\n",
              "      <th>Date</th>\n",
              "      <th></th>\n",
              "      <th></th>\n",
              "    </tr>\n",
              "  </thead>\n",
              "  <tbody>\n",
              "    <tr>\n",
              "      <th>2019-06-20 00:00:00-04:00</th>\n",
              "      <td>NaN</td>\n",
              "      <td>NaN</td>\n",
              "    </tr>\n",
              "    <tr>\n",
              "      <th>2019-06-21 00:00:00-04:00</th>\n",
              "      <td>NaN</td>\n",
              "      <td>NaN</td>\n",
              "    </tr>\n",
              "    <tr>\n",
              "      <th>2019-06-24 00:00:00-04:00</th>\n",
              "      <td>NaN</td>\n",
              "      <td>NaN</td>\n",
              "    </tr>\n",
              "    <tr>\n",
              "      <th>2019-06-25 00:00:00-04:00</th>\n",
              "      <td>193.302857</td>\n",
              "      <td>188.801431</td>\n",
              "    </tr>\n",
              "    <tr>\n",
              "      <th>2019-06-26 00:00:00-04:00</th>\n",
              "      <td>193.891427</td>\n",
              "      <td>189.414287</td>\n",
              "    </tr>\n",
              "    <tr>\n",
              "      <th>...</th>\n",
              "      <td>...</td>\n",
              "      <td>...</td>\n",
              "    </tr>\n",
              "    <tr>\n",
              "      <th>2020-06-15 00:00:00-04:00</th>\n",
              "      <td>235.960002</td>\n",
              "      <td>229.287142</td>\n",
              "    </tr>\n",
              "    <tr>\n",
              "      <th>2020-06-16 00:00:00-04:00</th>\n",
              "      <td>235.905716</td>\n",
              "      <td>229.325714</td>\n",
              "    </tr>\n",
              "    <tr>\n",
              "      <th>2020-06-17 00:00:00-04:00</th>\n",
              "      <td>NaN</td>\n",
              "      <td>NaN</td>\n",
              "    </tr>\n",
              "    <tr>\n",
              "      <th>2020-06-18 00:00:00-04:00</th>\n",
              "      <td>NaN</td>\n",
              "      <td>NaN</td>\n",
              "    </tr>\n",
              "    <tr>\n",
              "      <th>2020-06-19 00:00:00-04:00</th>\n",
              "      <td>NaN</td>\n",
              "      <td>NaN</td>\n",
              "    </tr>\n",
              "  </tbody>\n",
              "</table>\n",
              "<p>253 rows × 2 columns</p>\n",
              "</div>"
            ],
            "text/plain": [
              "                                 High         Low\n",
              "Date                                             \n",
              "2019-06-20 00:00:00-04:00         NaN         NaN\n",
              "2019-06-21 00:00:00-04:00         NaN         NaN\n",
              "2019-06-24 00:00:00-04:00         NaN         NaN\n",
              "2019-06-25 00:00:00-04:00  193.302857  188.801431\n",
              "2019-06-26 00:00:00-04:00  193.891427  189.414287\n",
              "...                               ...         ...\n",
              "2020-06-15 00:00:00-04:00  235.960002  229.287142\n",
              "2020-06-16 00:00:00-04:00  235.905716  229.325714\n",
              "2020-06-17 00:00:00-04:00         NaN         NaN\n",
              "2020-06-18 00:00:00-04:00         NaN         NaN\n",
              "2020-06-19 00:00:00-04:00         NaN         NaN\n",
              "\n",
              "[253 rows x 2 columns]"
            ]
          },
          "metadata": {},
          "execution_count": 63
        }
      ]
    },
    {
      "cell_type": "code",
      "metadata": {
        "id": "ODIlzMYHyTvM"
      },
      "source": [
        "#Differencing For Removing the Trend\n",
        "df_first_order_diff=fb_data[[\"High\",\"Low\"]].diff()"
      ],
      "execution_count": 64,
      "outputs": []
    },
    {
      "cell_type": "code",
      "metadata": {
        "colab": {
          "base_uri": "https://localhost:8080/",
          "height": 450
        },
        "id": "jHxWtRoq0xUP",
        "outputId": "272d4ea2-9c8b-41e3-e474-e103b1f664ce"
      },
      "source": [
        "df_first_order_diff"
      ],
      "execution_count": 65,
      "outputs": [
        {
          "output_type": "execute_result",
          "data": {
            "text/html": [
              "<div>\n",
              "<style scoped>\n",
              "    .dataframe tbody tr th:only-of-type {\n",
              "        vertical-align: middle;\n",
              "    }\n",
              "\n",
              "    .dataframe tbody tr th {\n",
              "        vertical-align: top;\n",
              "    }\n",
              "\n",
              "    .dataframe thead th {\n",
              "        text-align: right;\n",
              "    }\n",
              "</style>\n",
              "<table border=\"1\" class=\"dataframe\">\n",
              "  <thead>\n",
              "    <tr style=\"text-align: right;\">\n",
              "      <th></th>\n",
              "      <th>High</th>\n",
              "      <th>Low</th>\n",
              "    </tr>\n",
              "    <tr>\n",
              "      <th>Date</th>\n",
              "      <th></th>\n",
              "      <th></th>\n",
              "    </tr>\n",
              "  </thead>\n",
              "  <tbody>\n",
              "    <tr>\n",
              "      <th>2019-06-20 00:00:00-04:00</th>\n",
              "      <td>NaN</td>\n",
              "      <td>NaN</td>\n",
              "    </tr>\n",
              "    <tr>\n",
              "      <th>2019-06-21 00:00:00-04:00</th>\n",
              "      <td>0.839996</td>\n",
              "      <td>1.110001</td>\n",
              "    </tr>\n",
              "    <tr>\n",
              "      <th>2019-06-24 00:00:00-04:00</th>\n",
              "      <td>1.979996</td>\n",
              "      <td>2.820007</td>\n",
              "    </tr>\n",
              "    <tr>\n",
              "      <th>2019-06-25 00:00:00-04:00</th>\n",
              "      <td>-0.839997</td>\n",
              "      <td>-3.440002</td>\n",
              "    </tr>\n",
              "    <tr>\n",
              "      <th>2019-06-26 00:00:00-04:00</th>\n",
              "      <td>-2.380004</td>\n",
              "      <td>-0.820007</td>\n",
              "    </tr>\n",
              "    <tr>\n",
              "      <th>...</th>\n",
              "      <td>...</td>\n",
              "      <td>...</td>\n",
              "    </tr>\n",
              "    <tr>\n",
              "      <th>2020-06-15 00:00:00-04:00</th>\n",
              "      <td>2.110000</td>\n",
              "      <td>0.300003</td>\n",
              "    </tr>\n",
              "    <tr>\n",
              "      <th>2020-06-16 00:00:00-04:00</th>\n",
              "      <td>4.690003</td>\n",
              "      <td>8.199997</td>\n",
              "    </tr>\n",
              "    <tr>\n",
              "      <th>2020-06-17 00:00:00-04:00</th>\n",
              "      <td>-0.870011</td>\n",
              "      <td>-1.270004</td>\n",
              "    </tr>\n",
              "    <tr>\n",
              "      <th>2020-06-18 00:00:00-04:00</th>\n",
              "      <td>-1.449997</td>\n",
              "      <td>0.419998</td>\n",
              "    </tr>\n",
              "    <tr>\n",
              "      <th>2020-06-19 00:00:00-04:00</th>\n",
              "      <td>4.690003</td>\n",
              "      <td>3.400009</td>\n",
              "    </tr>\n",
              "  </tbody>\n",
              "</table>\n",
              "<p>253 rows × 2 columns</p>\n",
              "</div>"
            ],
            "text/plain": [
              "                               High       Low\n",
              "Date                                         \n",
              "2019-06-20 00:00:00-04:00       NaN       NaN\n",
              "2019-06-21 00:00:00-04:00  0.839996  1.110001\n",
              "2019-06-24 00:00:00-04:00  1.979996  2.820007\n",
              "2019-06-25 00:00:00-04:00 -0.839997 -3.440002\n",
              "2019-06-26 00:00:00-04:00 -2.380004 -0.820007\n",
              "...                             ...       ...\n",
              "2020-06-15 00:00:00-04:00  2.110000  0.300003\n",
              "2020-06-16 00:00:00-04:00  4.690003  8.199997\n",
              "2020-06-17 00:00:00-04:00 -0.870011 -1.270004\n",
              "2020-06-18 00:00:00-04:00 -1.449997  0.419998\n",
              "2020-06-19 00:00:00-04:00  4.690003  3.400009\n",
              "\n",
              "[253 rows x 2 columns]"
            ]
          },
          "metadata": {},
          "execution_count": 65
        }
      ]
    },
    {
      "cell_type": "code",
      "metadata": {
        "id": "5_LMy1Q304Um"
      },
      "source": [
        "#Important Time Feature Extraction"
      ],
      "execution_count": null,
      "outputs": []
    },
    {
      "cell_type": "code",
      "metadata": {
        "colab": {
          "base_uri": "https://localhost:8080/"
        },
        "id": "xA8zemLm0-VU",
        "outputId": "7950352d-be91-4ca5-b603-3166c2881387"
      },
      "source": [
        "pd.DatetimeIndex(fb_data.index).year"
      ],
      "execution_count": 67,
      "outputs": [
        {
          "output_type": "execute_result",
          "data": {
            "text/plain": [
              "Int64Index([2019, 2019, 2019, 2019, 2019, 2019, 2019, 2019, 2019, 2019,\n",
              "            ...\n",
              "            2020, 2020, 2020, 2020, 2020, 2020, 2020, 2020, 2020, 2020],\n",
              "           dtype='int64', name='Date', length=253)"
            ]
          },
          "metadata": {},
          "execution_count": 67
        }
      ]
    },
    {
      "cell_type": "code",
      "metadata": {
        "colab": {
          "base_uri": "https://localhost:8080/"
        },
        "id": "KKX4vv9c1PiC",
        "outputId": "6bf0c482-8a3b-4be0-8fc8-42cf26b20aaa"
      },
      "source": [
        "pd.DatetimeIndex(fb_data.index).month"
      ],
      "execution_count": 68,
      "outputs": [
        {
          "output_type": "execute_result",
          "data": {
            "text/plain": [
              "Int64Index([6, 6, 6, 6, 6, 6, 6, 7, 7, 7,\n",
              "            ...\n",
              "            6, 6, 6, 6, 6, 6, 6, 6, 6, 6],\n",
              "           dtype='int64', name='Date', length=253)"
            ]
          },
          "metadata": {},
          "execution_count": 68
        }
      ]
    },
    {
      "cell_type": "code",
      "metadata": {
        "colab": {
          "base_uri": "https://localhost:8080/"
        },
        "id": "NC1ek7B81ZMr",
        "outputId": "6cba303f-0391-4259-a4bd-74d5020d1ecc"
      },
      "source": [
        "pd.DatetimeIndex(fb_data.index).weekday"
      ],
      "execution_count": 69,
      "outputs": [
        {
          "output_type": "execute_result",
          "data": {
            "text/plain": [
              "Int64Index([3, 4, 0, 1, 2, 3, 4, 0, 1, 2,\n",
              "            ...\n",
              "            0, 1, 2, 3, 4, 0, 1, 2, 3, 4],\n",
              "           dtype='int64', name='Date', length=253)"
            ]
          },
          "metadata": {},
          "execution_count": 69
        }
      ]
    },
    {
      "cell_type": "code",
      "metadata": {
        "id": "T30cLT0l1pPK"
      },
      "source": [
        ""
      ],
      "execution_count": null,
      "outputs": []
    },
    {
      "cell_type": "code",
      "metadata": {
        "id": "EXqeYqlR1fMn"
      },
      "source": [
        "fb_data[\"Weekday\"]=pd.DatetimeIndex(fb_data.index).to_series().dt.day_name()"
      ],
      "execution_count": 70,
      "outputs": []
    },
    {
      "cell_type": "code",
      "metadata": {
        "colab": {
          "base_uri": "https://localhost:8080/",
          "height": 450
        },
        "id": "ZmnTmd0d19YV",
        "outputId": "0c151d63-b59f-4a21-8fca-784615e7f90c"
      },
      "source": [
        "fb_data"
      ],
      "execution_count": 71,
      "outputs": [
        {
          "output_type": "execute_result",
          "data": {
            "text/html": [
              "<div>\n",
              "<style scoped>\n",
              "    .dataframe tbody tr th:only-of-type {\n",
              "        vertical-align: middle;\n",
              "    }\n",
              "\n",
              "    .dataframe tbody tr th {\n",
              "        vertical-align: top;\n",
              "    }\n",
              "\n",
              "    .dataframe thead th {\n",
              "        text-align: right;\n",
              "    }\n",
              "</style>\n",
              "<table border=\"1\" class=\"dataframe\">\n",
              "  <thead>\n",
              "    <tr style=\"text-align: right;\">\n",
              "      <th></th>\n",
              "      <th>Open</th>\n",
              "      <th>High</th>\n",
              "      <th>Low</th>\n",
              "      <th>Close</th>\n",
              "      <th>Adj Close</th>\n",
              "      <th>Volume</th>\n",
              "      <th>Weekday</th>\n",
              "    </tr>\n",
              "    <tr>\n",
              "      <th>Date</th>\n",
              "      <th></th>\n",
              "      <th></th>\n",
              "      <th></th>\n",
              "      <th></th>\n",
              "      <th></th>\n",
              "      <th></th>\n",
              "      <th></th>\n",
              "    </tr>\n",
              "  </thead>\n",
              "  <tbody>\n",
              "    <tr>\n",
              "      <th>2019-06-20 00:00:00-04:00</th>\n",
              "      <td>190.949997</td>\n",
              "      <td>191.160004</td>\n",
              "      <td>187.639999</td>\n",
              "      <td>189.529999</td>\n",
              "      <td>189.529999</td>\n",
              "      <td>14635700</td>\n",
              "      <td>Thursday</td>\n",
              "    </tr>\n",
              "    <tr>\n",
              "      <th>2019-06-21 00:00:00-04:00</th>\n",
              "      <td>188.750000</td>\n",
              "      <td>192.000000</td>\n",
              "      <td>188.750000</td>\n",
              "      <td>191.139999</td>\n",
              "      <td>191.139999</td>\n",
              "      <td>22751200</td>\n",
              "      <td>Friday</td>\n",
              "    </tr>\n",
              "    <tr>\n",
              "      <th>2019-06-24 00:00:00-04:00</th>\n",
              "      <td>192.419998</td>\n",
              "      <td>193.979996</td>\n",
              "      <td>191.570007</td>\n",
              "      <td>192.600006</td>\n",
              "      <td>192.600006</td>\n",
              "      <td>15509000</td>\n",
              "      <td>Monday</td>\n",
              "    </tr>\n",
              "    <tr>\n",
              "      <th>2019-06-25 00:00:00-04:00</th>\n",
              "      <td>192.880005</td>\n",
              "      <td>193.139999</td>\n",
              "      <td>188.130005</td>\n",
              "      <td>188.839996</td>\n",
              "      <td>188.839996</td>\n",
              "      <td>16750300</td>\n",
              "      <td>Tuesday</td>\n",
              "    </tr>\n",
              "    <tr>\n",
              "      <th>2019-06-26 00:00:00-04:00</th>\n",
              "      <td>189.539993</td>\n",
              "      <td>190.759995</td>\n",
              "      <td>187.309998</td>\n",
              "      <td>187.660004</td>\n",
              "      <td>187.660004</td>\n",
              "      <td>12808600</td>\n",
              "      <td>Wednesday</td>\n",
              "    </tr>\n",
              "    <tr>\n",
              "      <th>...</th>\n",
              "      <td>...</td>\n",
              "      <td>...</td>\n",
              "      <td>...</td>\n",
              "      <td>...</td>\n",
              "      <td>...</td>\n",
              "      <td>...</td>\n",
              "      <td>...</td>\n",
              "    </tr>\n",
              "    <tr>\n",
              "      <th>2020-06-15 00:00:00-04:00</th>\n",
              "      <td>225.089996</td>\n",
              "      <td>233.770004</td>\n",
              "      <td>224.800003</td>\n",
              "      <td>232.500000</td>\n",
              "      <td>232.500000</td>\n",
              "      <td>15340300</td>\n",
              "      <td>Monday</td>\n",
              "    </tr>\n",
              "    <tr>\n",
              "      <th>2020-06-16 00:00:00-04:00</th>\n",
              "      <td>237.139999</td>\n",
              "      <td>238.460007</td>\n",
              "      <td>233.000000</td>\n",
              "      <td>235.649994</td>\n",
              "      <td>235.649994</td>\n",
              "      <td>15236700</td>\n",
              "      <td>Tuesday</td>\n",
              "    </tr>\n",
              "    <tr>\n",
              "      <th>2020-06-17 00:00:00-04:00</th>\n",
              "      <td>235.000000</td>\n",
              "      <td>237.589996</td>\n",
              "      <td>231.729996</td>\n",
              "      <td>235.529999</td>\n",
              "      <td>235.529999</td>\n",
              "      <td>19552800</td>\n",
              "      <td>Wednesday</td>\n",
              "    </tr>\n",
              "    <tr>\n",
              "      <th>2020-06-18 00:00:00-04:00</th>\n",
              "      <td>234.990005</td>\n",
              "      <td>236.139999</td>\n",
              "      <td>232.149994</td>\n",
              "      <td>235.940002</td>\n",
              "      <td>235.940002</td>\n",
              "      <td>15782500</td>\n",
              "      <td>Thursday</td>\n",
              "    </tr>\n",
              "    <tr>\n",
              "      <th>2020-06-19 00:00:00-04:00</th>\n",
              "      <td>237.789993</td>\n",
              "      <td>240.830002</td>\n",
              "      <td>235.550003</td>\n",
              "      <td>238.789993</td>\n",
              "      <td>238.789993</td>\n",
              "      <td>30069700</td>\n",
              "      <td>Friday</td>\n",
              "    </tr>\n",
              "  </tbody>\n",
              "</table>\n",
              "<p>253 rows × 7 columns</p>\n",
              "</div>"
            ],
            "text/plain": [
              "                                 Open        High  ...    Volume    Weekday\n",
              "Date                                               ...                     \n",
              "2019-06-20 00:00:00-04:00  190.949997  191.160004  ...  14635700   Thursday\n",
              "2019-06-21 00:00:00-04:00  188.750000  192.000000  ...  22751200     Friday\n",
              "2019-06-24 00:00:00-04:00  192.419998  193.979996  ...  15509000     Monday\n",
              "2019-06-25 00:00:00-04:00  192.880005  193.139999  ...  16750300    Tuesday\n",
              "2019-06-26 00:00:00-04:00  189.539993  190.759995  ...  12808600  Wednesday\n",
              "...                               ...         ...  ...       ...        ...\n",
              "2020-06-15 00:00:00-04:00  225.089996  233.770004  ...  15340300     Monday\n",
              "2020-06-16 00:00:00-04:00  237.139999  238.460007  ...  15236700    Tuesday\n",
              "2020-06-17 00:00:00-04:00  235.000000  237.589996  ...  19552800  Wednesday\n",
              "2020-06-18 00:00:00-04:00  234.990005  236.139999  ...  15782500   Thursday\n",
              "2020-06-19 00:00:00-04:00  237.789993  240.830002  ...  30069700     Friday\n",
              "\n",
              "[253 rows x 7 columns]"
            ]
          },
          "metadata": {},
          "execution_count": 71
        }
      ]
    },
    {
      "cell_type": "code",
      "metadata": {
        "id": "pVLOXyi52HBP"
      },
      "source": [
        "y=pd.Period(\"2021\")"
      ],
      "execution_count": 73,
      "outputs": []
    },
    {
      "cell_type": "code",
      "metadata": {
        "colab": {
          "base_uri": "https://localhost:8080/"
        },
        "id": "B8FTHAqR2PIy",
        "outputId": "6de9ed88-7857-4a60-cdb6-54d2bf0e85b4"
      },
      "source": [
        "y"
      ],
      "execution_count": 74,
      "outputs": [
        {
          "output_type": "execute_result",
          "data": {
            "text/plain": [
              "Period('2021', 'A-DEC')"
            ]
          },
          "metadata": {},
          "execution_count": 74
        }
      ]
    },
    {
      "cell_type": "code",
      "metadata": {
        "id": "AVSa0DNY2VVI"
      },
      "source": [
        "dir(y)"
      ],
      "execution_count": null,
      "outputs": []
    },
    {
      "cell_type": "code",
      "metadata": {
        "colab": {
          "base_uri": "https://localhost:8080/"
        },
        "id": "s7xW3yvM2X6o",
        "outputId": "de4eeed8-5b08-452b-bcd2-c3065f796be3"
      },
      "source": [
        "y.start_time"
      ],
      "execution_count": 75,
      "outputs": [
        {
          "output_type": "execute_result",
          "data": {
            "text/plain": [
              "Timestamp('2021-01-01 00:00:00')"
            ]
          },
          "metadata": {},
          "execution_count": 75
        }
      ]
    },
    {
      "cell_type": "code",
      "metadata": {
        "colab": {
          "base_uri": "https://localhost:8080/"
        },
        "id": "GbiVmlIx2hpu",
        "outputId": "99eb9c1e-b7e7-4597-c175-dbf8f1f47baa"
      },
      "source": [
        "y.end_time"
      ],
      "execution_count": 76,
      "outputs": [
        {
          "output_type": "execute_result",
          "data": {
            "text/plain": [
              "Timestamp('2021-12-31 23:59:59.999999999')"
            ]
          },
          "metadata": {},
          "execution_count": 76
        }
      ]
    },
    {
      "cell_type": "code",
      "metadata": {
        "id": "gZqIJyZe2jxs"
      },
      "source": [
        "month=pd.Period(\"2020-04\",freq=\"M\")"
      ],
      "execution_count": 77,
      "outputs": []
    },
    {
      "cell_type": "code",
      "metadata": {
        "colab": {
          "base_uri": "https://localhost:8080/"
        },
        "id": "OUuFxJ0P2rkw",
        "outputId": "cb192a6b-2ab4-4e10-b471-67b7b8591210"
      },
      "source": [
        "month"
      ],
      "execution_count": 78,
      "outputs": [
        {
          "output_type": "execute_result",
          "data": {
            "text/plain": [
              "Period('2020-04', 'M')"
            ]
          },
          "metadata": {},
          "execution_count": 78
        }
      ]
    },
    {
      "cell_type": "code",
      "metadata": {
        "colab": {
          "base_uri": "https://localhost:8080/"
        },
        "id": "t3ZvOLa72tLT",
        "outputId": "fadd4807-155f-4e04-837c-7fa19fa5127e"
      },
      "source": [
        "month.start_time"
      ],
      "execution_count": 79,
      "outputs": [
        {
          "output_type": "execute_result",
          "data": {
            "text/plain": [
              "Timestamp('2020-04-01 00:00:00')"
            ]
          },
          "metadata": {},
          "execution_count": 79
        }
      ]
    },
    {
      "cell_type": "code",
      "metadata": {
        "colab": {
          "base_uri": "https://localhost:8080/"
        },
        "id": "--F958F02vRy",
        "outputId": "aff18b97-1ee3-4606-f51d-c509bf95ff83"
      },
      "source": [
        "month.end_time"
      ],
      "execution_count": 80,
      "outputs": [
        {
          "output_type": "execute_result",
          "data": {
            "text/plain": [
              "Timestamp('2020-04-30 23:59:59.999999999')"
            ]
          },
          "metadata": {},
          "execution_count": 80
        }
      ]
    },
    {
      "cell_type": "code",
      "metadata": {
        "colab": {
          "base_uri": "https://localhost:8080/"
        },
        "id": "Ne26PW_g25HI",
        "outputId": "f1493210-3065-40a0-f23d-95f38e6807f1"
      },
      "source": [
        "month+2"
      ],
      "execution_count": 81,
      "outputs": [
        {
          "output_type": "execute_result",
          "data": {
            "text/plain": [
              "Period('2020-06', 'M')"
            ]
          },
          "metadata": {},
          "execution_count": 81
        }
      ]
    }
  ]
}